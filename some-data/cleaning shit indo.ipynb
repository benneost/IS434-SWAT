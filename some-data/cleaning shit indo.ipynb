{
 "cells": [
  {
   "cell_type": "code",
   "execution_count": 1,
   "id": "c66c09b7",
   "metadata": {},
   "outputs": [],
   "source": [
    "# pip install googletrans==4.0.0rc1"
   ]
  },
  {
   "cell_type": "code",
   "execution_count": 2,
   "id": "366732fc",
   "metadata": {},
   "outputs": [],
   "source": [
    "# pip install clean-text"
   ]
  },
  {
   "cell_type": "code",
   "execution_count": 3,
   "id": "789603cb",
   "metadata": {},
   "outputs": [],
   "source": [
    "\n",
    "# kurir -> courier \n",
    "# pengiriman -> delivery \n",
    "# melayani -> service \n",
    "# logistik -> logistics\n",
    "# paket -> parcel\n",
    "# tiba -> arrived\n",
    "# cepat lambat\n"
   ]
  },
  {
   "cell_type": "code",
   "execution_count": 4,
   "id": "cf95a92f",
   "metadata": {},
   "outputs": [],
   "source": [
    "import string\n",
    "import pandas as pd\n",
    "import numpy as np\n",
    "from bs4 import BeautifulSoup \n",
    "import re # For regular expressions\n",
    "from cleantext import clean\n",
    "\n",
    "\n",
    "from googletrans import Translator"
   ]
  },
  {
   "cell_type": "code",
   "execution_count": 5,
   "id": "50384cbe",
   "metadata": {},
   "outputs": [],
   "source": [
    "df = pd.read_csv('vinyl4.csv')"
   ]
  },
  {
   "cell_type": "code",
   "execution_count": 6,
   "id": "ed8bcf1a",
   "metadata": {},
   "outputs": [
    {
     "data": {
      "text/html": [
       "<div>\n",
       "<style scoped>\n",
       "    .dataframe tbody tr th:only-of-type {\n",
       "        vertical-align: middle;\n",
       "    }\n",
       "\n",
       "    .dataframe tbody tr th {\n",
       "        vertical-align: top;\n",
       "    }\n",
       "\n",
       "    .dataframe thead th {\n",
       "        text-align: right;\n",
       "    }\n",
       "</style>\n",
       "<table border=\"1\" class=\"dataframe\">\n",
       "  <thead>\n",
       "    <tr style=\"text-align: right;\">\n",
       "      <th></th>\n",
       "      <th>username</th>\n",
       "      <th>date</th>\n",
       "      <th>variation</th>\n",
       "      <th>rating</th>\n",
       "      <th>comment</th>\n",
       "    </tr>\n",
       "  </thead>\n",
       "  <tbody>\n",
       "    <tr>\n",
       "      <th>0</th>\n",
       "      <td>r8os1vl7v3</td>\n",
       "      <td>2022-03-09 12:46:27</td>\n",
       "      <td>TOSCA</td>\n",
       "      <td>5</td>\n",
       "      <td>Daya serap:bgus\\nHarga:murah\\nBahan/Material:o...</td>\n",
       "    </tr>\n",
       "    <tr>\n",
       "      <th>1</th>\n",
       "      <td>zahrazaskiakhoirunisahy</td>\n",
       "      <td>2022-03-13 07:58:32</td>\n",
       "      <td>HIJAU MUDA</td>\n",
       "      <td>4</td>\n",
       "      <td>Harga:murah bgt\\nBahan/Material:lentur\\nDaya s...</td>\n",
       "    </tr>\n",
       "    <tr>\n",
       "      <th>2</th>\n",
       "      <td>h*****7</td>\n",
       "      <td>2022-02-08 23:01:05</td>\n",
       "      <td>ABU</td>\n",
       "      <td>5</td>\n",
       "      <td>Harga:muraah\\n\\nAlhamdulillah pengiriman nya c...</td>\n",
       "    </tr>\n",
       "    <tr>\n",
       "      <th>3</th>\n",
       "      <td>yebitramudia</td>\n",
       "      <td>2022-01-21 19:22:29</td>\n",
       "      <td>TOSCA</td>\n",
       "      <td>5</td>\n",
       "      <td>Harga:termurah\\nBahan/Material:--\\nDaya serap:...</td>\n",
       "    </tr>\n",
       "    <tr>\n",
       "      <th>4</th>\n",
       "      <td>cukonndute</td>\n",
       "      <td>2021-12-19 23:04:48</td>\n",
       "      <td>KUNING</td>\n",
       "      <td>5</td>\n",
       "      <td>Harga:sangat murahhhhhhhhhhhhhhhhhhhhhhhhhhh\\n...</td>\n",
       "    </tr>\n",
       "  </tbody>\n",
       "</table>\n",
       "</div>"
      ],
      "text/plain": [
       "                  username                 date   variation  rating  \\\n",
       "0               r8os1vl7v3  2022-03-09 12:46:27       TOSCA       5   \n",
       "1  zahrazaskiakhoirunisahy  2022-03-13 07:58:32  HIJAU MUDA       4   \n",
       "2                  h*****7  2022-02-08 23:01:05         ABU       5   \n",
       "3             yebitramudia  2022-01-21 19:22:29       TOSCA       5   \n",
       "4               cukonndute  2021-12-19 23:04:48      KUNING       5   \n",
       "\n",
       "                                             comment  \n",
       "0  Daya serap:bgus\\nHarga:murah\\nBahan/Material:o...  \n",
       "1  Harga:murah bgt\\nBahan/Material:lentur\\nDaya s...  \n",
       "2  Harga:muraah\\n\\nAlhamdulillah pengiriman nya c...  \n",
       "3  Harga:termurah\\nBahan/Material:--\\nDaya serap:...  \n",
       "4  Harga:sangat murahhhhhhhhhhhhhhhhhhhhhhhhhhh\\n...  "
      ]
     },
     "execution_count": 6,
     "metadata": {},
     "output_type": "execute_result"
    }
   ],
   "source": [
    "df.head()"
   ]
  },
  {
   "cell_type": "code",
   "execution_count": 7,
   "id": "442ba34d",
   "metadata": {},
   "outputs": [],
   "source": [
    "def clean_text_round1(text):\n",
    "    '''Make text lowercase, remove punctuation, remove words containing numbers and lemmatize/stem.'''\n",
    "    text = str(text).lower()\n",
    "    text = re.sub('#\\w*', '', text)\n",
    "    text = re.sub('@\\w*', '', text)    \n",
    "    text = re.sub('[%s]' % re.escape(string.punctuation), '', text)\n",
    "    text = re.sub('\\w*\\d\\w*', '', text)\n",
    "    text = clean(text, no_emoji=True)\n",
    "    return text\n",
    "\n",
    "# Let's take a look at the updated text\n",
    "df['clean'] = pd.DataFrame(df['comment'].apply(clean_text_round1))\n"
   ]
  },
  {
   "cell_type": "code",
   "execution_count": 8,
   "id": "044ed72a",
   "metadata": {},
   "outputs": [],
   "source": [
    "df['Reviews with the words courier, delivery etc'] = df['clean'].str.replace('\\n',' ')"
   ]
  },
  {
   "cell_type": "code",
   "execution_count": 9,
   "id": "c917945d",
   "metadata": {},
   "outputs": [],
   "source": [
    "# df1 = df[df['clean'].str.contains(\"pengiriman\",\"kurir\")]\n",
    "bow_list = ['kurir', 'pengiriman', 'melayani', 'logistik', 'paket', 'tiba']"
   ]
  },
  {
   "cell_type": "code",
   "execution_count": 10,
   "id": "ecc6b818",
   "metadata": {},
   "outputs": [
    {
     "data": {
      "text/plain": [
       "230"
      ]
     },
     "execution_count": 10,
     "metadata": {},
     "output_type": "execute_result"
    }
   ],
   "source": [
    "df1 = df[df['Reviews with the words courier, delivery etc'].str.contains('|'.join(bow_list))]\n",
    "len(df1.index)"
   ]
  },
  {
   "cell_type": "code",
   "execution_count": 11,
   "id": "3704838f",
   "metadata": {},
   "outputs": [],
   "source": [
    "df2 = df1[df1['Reviews with the words courier, delivery etc'].str.contains(\"cepat\")]"
   ]
  },
  {
   "cell_type": "code",
   "execution_count": 12,
   "id": "9a65bd49",
   "metadata": {},
   "outputs": [
    {
     "data": {
      "text/plain": [
       "126"
      ]
     },
     "execution_count": 12,
     "metadata": {},
     "output_type": "execute_result"
    }
   ],
   "source": [
    "df2 = df2.rename(columns={'clean': 'Reviews with the word fast'})\n",
    "len(df2.index)"
   ]
  },
  {
   "cell_type": "code",
   "execution_count": 13,
   "id": "d8a6b46a",
   "metadata": {},
   "outputs": [],
   "source": [
    "df3 = df1[df1['Reviews with the words courier, delivery etc'].str.contains(\"lambat\")]"
   ]
  },
  {
   "cell_type": "code",
   "execution_count": 14,
   "id": "b2bbb465",
   "metadata": {},
   "outputs": [
    {
     "data": {
      "text/plain": [
       "1"
      ]
     },
     "execution_count": 14,
     "metadata": {},
     "output_type": "execute_result"
    }
   ],
   "source": [
    "df3= df3.rename(columns={'clean': 'Reviews with the word slow'})\n",
    "len(df3.index)"
   ]
  },
  {
   "cell_type": "code",
   "execution_count": 15,
   "id": "3e0780fe",
   "metadata": {},
   "outputs": [],
   "source": [
    "frames = [df1['Reviews with the words courier, delivery etc'], df2['Reviews with the word fast'], df3['Reviews with the word slow']]\n",
    "result = pd.concat(frames, axis =1)"
   ]
  },
  {
   "cell_type": "code",
   "execution_count": 16,
   "id": "1900688d",
   "metadata": {},
   "outputs": [
    {
     "data": {
      "text/html": [
       "<div>\n",
       "<style scoped>\n",
       "    .dataframe tbody tr th:only-of-type {\n",
       "        vertical-align: middle;\n",
       "    }\n",
       "\n",
       "    .dataframe tbody tr th {\n",
       "        vertical-align: top;\n",
       "    }\n",
       "\n",
       "    .dataframe thead th {\n",
       "        text-align: right;\n",
       "    }\n",
       "</style>\n",
       "<table border=\"1\" class=\"dataframe\">\n",
       "  <thead>\n",
       "    <tr style=\"text-align: right;\">\n",
       "      <th></th>\n",
       "      <th>Reviews with the words courier, delivery etc</th>\n",
       "      <th>Reviews with the word fast</th>\n",
       "      <th>Reviews with the word slow</th>\n",
       "    </tr>\n",
       "  </thead>\n",
       "  <tbody>\n",
       "    <tr>\n",
       "      <th>2</th>\n",
       "      <td>hargamuraah alhamdulillah pengiriman nya cepat...</td>\n",
       "      <td>hargamuraah\\nalhamdulillah pengiriman nya cepa...</td>\n",
       "      <td>NaN</td>\n",
       "    </tr>\n",
       "    <tr>\n",
       "      <th>3</th>\n",
       "      <td>hargatermurah bahanmaterial daya serapcepat ak...</td>\n",
       "      <td>hargatermurah\\nbahanmaterial\\ndaya serapcepat\\...</td>\n",
       "      <td>NaN</td>\n",
       "    </tr>\n",
       "    <tr>\n",
       "      <th>4</th>\n",
       "      <td>hargasangat murahhhhhhhhhhhhhhhhhhhhhhhhhhh ba...</td>\n",
       "      <td>hargasangat murahhhhhhhhhhhhhhhhhhhhhhhhhhh\\nb...</td>\n",
       "      <td>NaN</td>\n",
       "    </tr>\n",
       "    <tr>\n",
       "      <th>7</th>\n",
       "      <td>hargamurah daya serapbagus bahanmaterialpvc al...</td>\n",
       "      <td>NaN</td>\n",
       "      <td>NaN</td>\n",
       "    </tr>\n",
       "    <tr>\n",
       "      <th>8</th>\n",
       "      <td>hargamurmer daya serapwaterproof bahanmaterial...</td>\n",
       "      <td>hargamurmer\\ndaya serapwaterproof\\nbahanmateri...</td>\n",
       "      <td>NaN</td>\n",
       "    </tr>\n",
       "    <tr>\n",
       "      <th>...</th>\n",
       "      <td>...</td>\n",
       "      <td>...</td>\n",
       "      <td>...</td>\n",
       "    </tr>\n",
       "    <tr>\n",
       "      <th>1234</th>\n",
       "      <td>pengiriman lama</td>\n",
       "      <td>NaN</td>\n",
       "      <td>NaN</td>\n",
       "    </tr>\n",
       "    <tr>\n",
       "      <th>1238</th>\n",
       "      <td>kualitas barang bagus pengiriman cepat harga t...</td>\n",
       "      <td>kualitas barang bagus pengiriman cepat harga t...</td>\n",
       "      <td>NaN</td>\n",
       "    </tr>\n",
       "    <tr>\n",
       "      <th>1244</th>\n",
       "      <td>hargamayan daya serapbaik bahanmaterialbagus s...</td>\n",
       "      <td>NaN</td>\n",
       "      <td>NaN</td>\n",
       "    </tr>\n",
       "    <tr>\n",
       "      <th>1250</th>\n",
       "      <td>barang bagus pengiriman lambat</td>\n",
       "      <td>NaN</td>\n",
       "      <td>barang bagus\\npengiriman lambat</td>\n",
       "    </tr>\n",
       "    <tr>\n",
       "      <th>1273</th>\n",
       "      <td>hargastandar daya serapbiasa bahanmaterialpvc ...</td>\n",
       "      <td>NaN</td>\n",
       "      <td>NaN</td>\n",
       "    </tr>\n",
       "  </tbody>\n",
       "</table>\n",
       "<p>230 rows × 3 columns</p>\n",
       "</div>"
      ],
      "text/plain": [
       "           Reviews with the words courier, delivery etc  \\\n",
       "2     hargamuraah alhamdulillah pengiriman nya cepat...   \n",
       "3     hargatermurah bahanmaterial daya serapcepat ak...   \n",
       "4     hargasangat murahhhhhhhhhhhhhhhhhhhhhhhhhhh ba...   \n",
       "7     hargamurah daya serapbagus bahanmaterialpvc al...   \n",
       "8     hargamurmer daya serapwaterproof bahanmaterial...   \n",
       "...                                                 ...   \n",
       "1234                                    pengiriman lama   \n",
       "1238  kualitas barang bagus pengiriman cepat harga t...   \n",
       "1244  hargamayan daya serapbaik bahanmaterialbagus s...   \n",
       "1250                     barang bagus pengiriman lambat   \n",
       "1273  hargastandar daya serapbiasa bahanmaterialpvc ...   \n",
       "\n",
       "                             Reviews with the word fast  \\\n",
       "2     hargamuraah\\nalhamdulillah pengiriman nya cepa...   \n",
       "3     hargatermurah\\nbahanmaterial\\ndaya serapcepat\\...   \n",
       "4     hargasangat murahhhhhhhhhhhhhhhhhhhhhhhhhhh\\nb...   \n",
       "7                                                   NaN   \n",
       "8     hargamurmer\\ndaya serapwaterproof\\nbahanmateri...   \n",
       "...                                                 ...   \n",
       "1234                                                NaN   \n",
       "1238  kualitas barang bagus pengiriman cepat harga t...   \n",
       "1244                                                NaN   \n",
       "1250                                                NaN   \n",
       "1273                                                NaN   \n",
       "\n",
       "           Reviews with the word slow  \n",
       "2                                 NaN  \n",
       "3                                 NaN  \n",
       "4                                 NaN  \n",
       "7                                 NaN  \n",
       "8                                 NaN  \n",
       "...                               ...  \n",
       "1234                              NaN  \n",
       "1238                              NaN  \n",
       "1244                              NaN  \n",
       "1250  barang bagus\\npengiriman lambat  \n",
       "1273                              NaN  \n",
       "\n",
       "[230 rows x 3 columns]"
      ]
     },
     "execution_count": 16,
     "metadata": {},
     "output_type": "execute_result"
    }
   ],
   "source": [
    "result"
   ]
  },
  {
   "cell_type": "code",
   "execution_count": 17,
   "id": "4c9ac3ea",
   "metadata": {},
   "outputs": [],
   "source": [
    "result.to_csv('vinyl4.csv')"
   ]
  },
  {
   "cell_type": "code",
   "execution_count": 18,
   "id": "8d2f2d43",
   "metadata": {},
   "outputs": [],
   "source": [
    "# #initialize the Translator\n",
    "# translator = Translator()\n",
    "# source_lan = \"id\"  #en is the code for Hindi Language\n",
    "# translated_to= \"en\" #hi is the code for Hindi Language"
   ]
  },
  {
   "cell_type": "code",
   "execution_count": 19,
   "id": "0d4cfc43",
   "metadata": {},
   "outputs": [],
   "source": [
    "# result['translated_review (fast)'] = result['Reviews with the word fast'].apply(lambda row: translator.translate(row, src=source_lan, dest = translated_to).text)"
   ]
  },
  {
   "cell_type": "code",
   "execution_count": 20,
   "id": "ef99a1a6",
   "metadata": {},
   "outputs": [],
   "source": [
    "# result['translated_review (slow)'] = result['Reviews with the word slow'].apply(lambda row: translator.translate(row, src=source_lan, dest = translated_to).text)"
   ]
  },
  {
   "cell_type": "code",
   "execution_count": 21,
   "id": "514e6027",
   "metadata": {},
   "outputs": [
    {
     "data": {
      "text/plain": [
       "1250    barang bagus\\npengiriman lambat\n",
       "Name: Reviews with the word slow, dtype: object"
      ]
     },
     "execution_count": 21,
     "metadata": {},
     "output_type": "execute_result"
    }
   ],
   "source": [
    "result['Reviews with the word slow'].dropna()"
   ]
  },
  {
   "cell_type": "code",
   "execution_count": 22,
   "id": "80fb348b",
   "metadata": {},
   "outputs": [],
   "source": [
    "result['Reviews with the word slow'].dropna().to_csv('vinyl4_slow.csv')"
   ]
  },
  {
   "cell_type": "code",
   "execution_count": null,
   "id": "3e4fdd6b",
   "metadata": {},
   "outputs": [],
   "source": [
    "\n"
   ]
  },
  {
   "cell_type": "code",
   "execution_count": null,
   "id": "aaab8289",
   "metadata": {},
   "outputs": [],
   "source": []
  }
 ],
 "metadata": {
  "kernelspec": {
   "display_name": "Python 3 (ipykernel)",
   "language": "python",
   "name": "python3"
  },
  "language_info": {
   "codemirror_mode": {
    "name": "ipython",
    "version": 3
   },
   "file_extension": ".py",
   "mimetype": "text/x-python",
   "name": "python",
   "nbconvert_exporter": "python",
   "pygments_lexer": "ipython3",
   "version": "3.8.12"
  }
 },
 "nbformat": 4,
 "nbformat_minor": 5
}
