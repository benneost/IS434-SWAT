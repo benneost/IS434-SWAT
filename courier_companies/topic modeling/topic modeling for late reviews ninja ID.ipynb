{
 "cells": [
  {
   "cell_type": "code",
   "execution_count": 1,
   "id": "26e265a0",
   "metadata": {},
   "outputs": [
    {
     "name": "stderr",
     "output_type": "stream",
     "text": [
      "[nltk_data] Downloading package stopwords to\n",
      "[nltk_data]     /Users/shureenteh/nltk_data...\n",
      "[nltk_data]   Package stopwords is already up-to-date!\n"
     ]
    }
   ],
   "source": [
    "import pandas as pd\n",
    "import re \n",
    "\n",
    "# Gensim for topic modeling\n",
    "import gensim\n",
    "from gensim.utils import simple_preprocess\n",
    "from gensim import matutils, models\n",
    "import gensim.corpora as corpora\n",
    "from gensim.models import CoherenceModel\n",
    "\n",
    "# spacy for lemmatization\n",
    "import spacy\n",
    "import scipy.sparse\n",
    "\n",
    "# NLTK Stop words\n",
    "import nltk\n",
    "nltk.download('stopwords')\n",
    "from nltk.corpus import stopwords\n",
    "\n",
    "# Plotting tools\n",
    "import pyLDAvis\n",
    "import pyLDAvis.gensim_models  # don't skip this\n",
    "import matplotlib.pyplot as plt\n",
    "%matplotlib inline\n",
    "\n",
    "from sklearn.svm import LinearSVC\n",
    "from sklearn.metrics import confusion_matrix\n",
    "from sklearn.feature_extraction.text import CountVectorizer\n",
    "from sklearn.feature_extraction.text import TfidfTransformer\n",
    "from sklearn.feature_extraction.text import TfidfVectorizer"
   ]
  },
  {
   "cell_type": "code",
   "execution_count": 2,
   "id": "32335cbe",
   "metadata": {},
   "outputs": [],
   "source": [
    "df = pd.read_csv('Late_reviews_ninjaID copy.csv')"
   ]
  },
  {
   "cell_type": "code",
   "execution_count": 3,
   "id": "6c07d41c",
   "metadata": {},
   "outputs": [
    {
     "data": {
      "text/plain": [
       "[(0,\n",
       "  '0.036*\"delivery\" + 0.029*\"service\" + 0.029*\"time\" + 0.028*\"long\" + 0.026*\"package\" + 0.018*\"courier\" + 0.014*\"slow\" + 0.014*\"day\" + 0.013*\"expedition\" + 0.013*\"good\"'),\n",
       " (1,\n",
       "  '0.049*\"ninja\" + 0.028*\"long\" + 0.025*\"time\" + 0.023*\"slow\" + 0.021*\"package\" + 0.020*\"use\" + 0.018*\"express\" + 0.015*\"like\" + 0.015*\"even\" + 0.014*\"using\"')]"
      ]
     },
     "execution_count": 3,
     "metadata": {},
     "output_type": "execute_result"
    }
   ],
   "source": [
    "# Convert to list\n",
    "data = df.values.tolist()\n",
    "data[:5]\n",
    "\n",
    "def sent_to_words(sentences):\n",
    "    for sentence in sentences:\n",
    "        yield(gensim.utils.simple_preprocess(str(sentence), deacc=True))  # deacc=True removes punctuations\n",
    "\n",
    "data_words = list(sent_to_words(data))\n",
    "\n",
    "# Create Dictionary\n",
    "id2word = corpora.Dictionary(data_words)\n",
    "\n",
    "# Create Corpus\n",
    "texts = data_words\n",
    "\n",
    "# Term Document Frequency\n",
    "corpus = [id2word.doc2bow(text) for text in texts]\n",
    "\n",
    "# Let's start with 2 topics.\n",
    "lda_model = models.LdaModel(corpus=corpus, id2word=id2word, num_topics=2, passes=10)\n",
    "lda_model.print_topics()"
   ]
  },
  {
   "cell_type": "code",
   "execution_count": 4,
   "id": "a64ae126",
   "metadata": {},
   "outputs": [
    {
     "data": {
      "text/plain": [
       "[(0,\n",
       "  '0.064*\"use\" + 0.058*\"courier\" + 0.052*\"ninja\" + 0.039*\"express\" + 0.028*\"slow\" + 0.020*\"another\" + 0.020*\"day\" + 0.020*\"still\" + 0.019*\"dont\" + 0.018*\"name\"'),\n",
       " (1,\n",
       "  '0.034*\"time\" + 0.033*\"ninja\" + 0.027*\"slow\" + 0.022*\"delivery\" + 0.022*\"disappointed\" + 0.022*\"sent\" + 0.022*\"crazy\" + 0.017*\"really\" + 0.017*\"kaga\" + 0.017*\"already\"'),\n",
       " (2,\n",
       "  '0.037*\"time\" + 0.037*\"day\" + 0.032*\"ninja\" + 0.026*\"package\" + 0.026*\"slow\" + 0.025*\"long\" + 0.025*\"star\" + 0.019*\"week\" + 0.019*\"like\" + 0.019*\"expedition\"'),\n",
       " (3,\n",
       "  '0.051*\"long\" + 0.051*\"delivery\" + 0.050*\"service\" + 0.026*\"time\" + 0.024*\"bad\" + 0.017*\"always\" + 0.017*\"month\" + 0.017*\"shipment\" + 0.017*\"wrong\" + 0.017*\"like\"'),\n",
       " (4,\n",
       "  '0.039*\"package\" + 0.039*\"day\" + 0.038*\"july\" + 0.027*\"city\" + 0.026*\"pasuruan\" + 0.026*\"jakarta\" + 0.026*\"new\" + 0.026*\"ga\" + 0.026*\"pa\" + 0.026*\"dated\"'),\n",
       " (5,\n",
       "  '0.056*\"package\" + 0.049*\"ninja\" + 0.031*\"slow\" + 0.023*\"service\" + 0.023*\"many\" + 0.023*\"lost\" + 0.023*\"kg\" + 0.023*\"failed\" + 0.015*\"use\" + 0.014*\"name\"'),\n",
       " (6,\n",
       "  '0.083*\"long\" + 0.068*\"time\" + 0.035*\"took\" + 0.029*\"pick\" + 0.026*\"expedition\" + 0.026*\"disappointed\" + 0.019*\"ninja\" + 0.018*\"express\" + 0.018*\"gave\" + 0.018*\"delivery\"'),\n",
       " (7,\n",
       "  '0.041*\"ninja\" + 0.031*\"time\" + 0.031*\"service\" + 0.021*\"want\" + 0.021*\"package\" + 0.021*\"expedition\" + 0.021*\"delivery\" + 0.021*\"slow\" + 0.021*\"week\" + 0.021*\"first\"'),\n",
       " (8,\n",
       "  '0.045*\"ninja\" + 0.041*\"long\" + 0.029*\"service\" + 0.029*\"package\" + 0.024*\"delivery\" + 0.022*\"arrived\" + 0.022*\"good\" + 0.019*\"time\" + 0.019*\"using\" + 0.019*\"express\"'),\n",
       " (9,\n",
       "  '0.049*\"service\" + 0.037*\"time\" + 0.031*\"delivery\" + 0.031*\"bad\" + 0.026*\"long\" + 0.025*\"package\" + 0.025*\"slow\" + 0.025*\"courier\" + 0.021*\"want\" + 0.019*\"ninja\"')]"
      ]
     },
     "execution_count": 4,
     "metadata": {},
     "output_type": "execute_result"
    }
   ],
   "source": [
    "# Let's start with 10 topics. This may take a while.\n",
    "lda_model = models.LdaModel(corpus=corpus, id2word=id2word, num_topics=10, passes=10)\n",
    "lda_model.print_topics()"
   ]
  },
  {
   "cell_type": "code",
   "execution_count": 5,
   "id": "e17911a4",
   "metadata": {},
   "outputs": [],
   "source": [
    "def sent_to_words(sentences):\n",
    "    for sentence in sentences:\n",
    "        yield(gensim.utils.simple_preprocess(str(sentence), deacc=True))  # deacc=True removes punctuations\n",
    "\n",
    "data_words = list(sent_to_words(data))\n"
   ]
  },
  {
   "cell_type": "code",
   "execution_count": 6,
   "id": "38f672f7",
   "metadata": {},
   "outputs": [],
   "source": [
    "# Prepare stopwords using NLTK\n",
    "stop_words = stopwords.words('english')\n",
    "\n",
    "def remove_stopwords(texts):\n",
    "    return [[word for word in simple_preprocess(str(doc)) if word not in stop_words] for doc in texts]\n",
    "\n",
    "# Remove Stop Words\n",
    "data_words_nostops = remove_stopwords(data_words)\n"
   ]
  },
  {
   "cell_type": "code",
   "execution_count": 7,
   "id": "079511f0",
   "metadata": {},
   "outputs": [
    {
     "name": "stdout",
     "output_type": "stream",
     "text": [
      "['first', 'time', 'used', 'ninja', 'really', 'disappointed', 'wouldnt', 'use', 'another', 'delivery', 'service', 'longest', 'one', 'week', 'jakarta']\n"
     ]
    }
   ],
   "source": [
    "# Build the bigram models\n",
    "bigram = gensim.models.Phrases(data_words, min_count=5, threshold=10) # higher threshold fewer phrases.\n",
    "\n",
    "# Faster way to get a sentence clubbed as a bigram\n",
    "bigram_mod = gensim.models.phrases.Phraser(bigram)\n",
    "\n",
    "def make_bigrams(texts):\n",
    "    return [bigram_mod[doc] for doc in texts]\n",
    "\n",
    "# Form Bigrams\n",
    "data_words_bigrams = make_bigrams(data_words_nostops)\n",
    "\n",
    "print(data_words_bigrams[10])"
   ]
  },
  {
   "cell_type": "code",
   "execution_count": 8,
   "id": "529446e6",
   "metadata": {},
   "outputs": [
    {
     "name": "stdout",
     "output_type": "stream",
     "text": [
      "Before Lemmatization: [['lazada', 'seller', 'lost', 'lot', 'ninja', 'delivery', 'service', 'trustworthy', 'long', 'hand', 'package', 'always', 'return', 'reason', 'clear', 'week', 'good', 'finally', 'return', 'good']]\n",
      "After Lemmatization:  [['lazada', 'seller', 'lot', 'delivery', 'service', 'hand', 'package', 'reason', 'week', 'good']]\n"
     ]
    }
   ],
   "source": [
    "def lemmatization(texts, allowed_postags=['NOUN']):\n",
    "    \"\"\"\"\"\"\n",
    "    texts_out = []\n",
    "    for sent in texts:\n",
    "        doc = nlp(\" \".join(sent)) \n",
    "        texts_out.append([token.lemma_ for token in doc if token.pos_ in allowed_postags])\n",
    "    return texts_out\n",
    "\n",
    "# Initialize spacy 'en' model, keeping only tagger component\n",
    "# For normal use\n",
    "# !python -m spacy download en_core_web_sm\n",
    "# nlp = spacy.load('en_core_web_sm', disable=['parser', 'ner'])\n",
    "\n",
    "# For Colab use\n",
    "import en_core_web_sm\n",
    "nlp = en_core_web_sm.load()\n",
    "\n",
    "print(\"Before Lemmatization:\", data_words_bigrams[:1])\n",
    "\n",
    "# Do lemmatization keeping only noun\n",
    "data_lemmatized = lemmatization(data_words_bigrams, allowed_postags=['NOUN', 'PROPN'])\n",
    "\n",
    "print(\"After Lemmatization: \", data_lemmatized[:1])"
   ]
  },
  {
   "cell_type": "code",
   "execution_count": 9,
   "id": "2f485bfb",
   "metadata": {},
   "outputs": [
    {
     "name": "stdout",
     "output_type": "stream",
     "text": [
      "[[(0, 1), (1, 1), (2, 1), (3, 1), (4, 1), (5, 1), (6, 1), (7, 1), (8, 1), (9, 1)]]\n"
     ]
    }
   ],
   "source": [
    "# Create Dictionary\n",
    "id2word = corpora.Dictionary(data_lemmatized)\n",
    "id2word.filter_extremes(no_below=1.5, no_above=0.8) # this will filter out words that are less frequen\n",
    "\n",
    "# Create Corpus\n",
    "texts = data_lemmatized\n",
    "\n",
    "# Term Document Frequency\n",
    "corpus = [id2word.doc2bow(text) for text in texts]\n",
    "\n",
    "# View\n",
    "print(corpus[:1])"
   ]
  },
  {
   "cell_type": "code",
   "execution_count": 10,
   "id": "4dc9f439",
   "metadata": {},
   "outputs": [
    {
     "data": {
      "text/plain": [
       "[(0,\n",
       "  '0.095*\"time\" + 0.067*\"delivery\" + 0.050*\"service\" + 0.035*\"expedition\" + 0.032*\"package\" + 0.028*\"day\" + 0.021*\"use\" + 0.016*\"jakarta\" + 0.015*\"ninja\" + 0.014*\"even_though\"'),\n",
       " (1,\n",
       "  '0.075*\"package\" + 0.056*\"courier\" + 0.037*\"service\" + 0.025*\"week\" + 0.023*\"stuff\" + 0.020*\"day\" + 0.018*\"ninja\" + 0.017*\"expedition\" + 0.017*\"delivery\" + 0.016*\"work\"')]"
      ]
     },
     "execution_count": 10,
     "metadata": {},
     "output_type": "execute_result"
    }
   ],
   "source": [
    "# Build LDA model\n",
    "\n",
    "# Let's start with 2 topics.\n",
    "lda_model = models.LdaModel(corpus=corpus, id2word=id2word, num_topics=2, passes=10)\n",
    "lda_model.print_topics()"
   ]
  },
  {
   "cell_type": "code",
   "execution_count": 11,
   "id": "4fe90837",
   "metadata": {},
   "outputs": [
    {
     "data": {
      "text/plain": [
       "[(0,\n",
       "  '0.100*\"time\" + 0.074*\"service\" + 0.064*\"expedition\" + 0.054*\"package\" + 0.026*\"use\" + 0.026*\"transit\" + 0.022*\"day\" + 0.016*\"ninja\" + 0.016*\"jakarta\" + 0.016*\"jne\"'),\n",
       " (1,\n",
       "  '0.045*\"package\" + 0.039*\"delivery\" + 0.039*\"ninja\" + 0.036*\"time\" + 0.035*\"courier\" + 0.034*\"stuff\" + 0.034*\"name\" + 0.029*\"day\" + 0.029*\"xpress\" + 0.018*\"yesterday\"'),\n",
       " (2,\n",
       "  '0.086*\"delivery\" + 0.050*\"courier\" + 0.049*\"package\" + 0.044*\"service\" + 0.039*\"time\" + 0.024*\"star\" + 0.023*\"day\" + 0.020*\"jakarta\" + 0.020*\"week\" + 0.016*\"use\"')]"
      ]
     },
     "execution_count": 11,
     "metadata": {},
     "output_type": "execute_result"
    }
   ],
   "source": [
    "# 3 topics.\n",
    "lda_model = models.LdaModel(corpus=corpus, id2word=id2word, num_topics=3, passes=10)\n",
    "lda_model.print_topics()"
   ]
  },
  {
   "cell_type": "code",
   "execution_count": 12,
   "id": "584fd4c5",
   "metadata": {},
   "outputs": [
    {
     "name": "stdout",
     "output_type": "stream",
     "text": [
      "\n",
      "Perplexity:  -5.016193530050327\n",
      "\n",
      "Coherence Score:  0.5088034564350888\n"
     ]
    }
   ],
   "source": [
    "# Compute Perplexity\n",
    "print('\\nPerplexity: ', lda_model.log_perplexity(corpus))  # a measure of how good the model is. lower the better.\n",
    "\n",
    "# Compute Coherence Score\n",
    "coherence_model_lda = CoherenceModel(model=lda_model, texts=data_lemmatized, dictionary=id2word, coherence='c_v')\n",
    "coherence_lda = coherence_model_lda.get_coherence()\n",
    "print('\\nCoherence Score: ', coherence_lda)"
   ]
  },
  {
   "cell_type": "code",
   "execution_count": 13,
   "id": "69786096",
   "metadata": {},
   "outputs": [],
   "source": [
    "def compute_coherence_values(dictionary, corpus, texts, limit, start=2, step=3):\n",
    "    \"\"\"\n",
    "    Compute c_v coherence for various number of topics\n",
    "\n",
    "    Parameters:\n",
    "    ----------\n",
    "    dictionary : Gensim dictionary\n",
    "    corpus : Gensim corpus\n",
    "    texts : List of input texts\n",
    "    limit : Max num of topics\n",
    "\n",
    "    Returns:\n",
    "    -------\n",
    "    model_list : List of LDA topic models\n",
    "    coherence_values : Coherence values corresponding to the LDA model with respective number of topics\n",
    "    \"\"\"\n",
    "    coherence_values = []\n",
    "    model_list = []  \n",
    "    for num_topics in range(start, limit, step):\n",
    "        print(f'Training model for num_topics= {num_topics}')\n",
    "        model = models.LdaModel(corpus=corpus, id2word=id2word, num_topics=num_topics, passes=10)\n",
    "        model_list.append(model)\n",
    "        coherencemodel = CoherenceModel(model=model, texts=texts, dictionary=dictionary, coherence='c_v')\n",
    "        coherence_values.append(coherencemodel.get_coherence())\n",
    "\n",
    "    return model_list, coherence_values"
   ]
  },
  {
   "cell_type": "code",
   "execution_count": 14,
   "id": "1635a0ea",
   "metadata": {},
   "outputs": [
    {
     "name": "stdout",
     "output_type": "stream",
     "text": [
      "Training model for num_topics= 2\n",
      "Training model for num_topics= 8\n",
      "Training model for num_topics= 14\n",
      "Training model for num_topics= 20\n",
      "Training model for num_topics= 26\n",
      "Training model for num_topics= 32\n",
      "Training model for num_topics= 38\n",
      "Training model for num_topics= 44\n",
      "Training model for num_topics= 50\n",
      "Training model for num_topics= 56\n",
      "Completed!\n"
     ]
    }
   ],
   "source": [
    "start = 2\n",
    "limit = 60\n",
    "step = 6\n",
    "# Can take a long time to run.\n",
    "model_list, coherence_values = compute_coherence_values(dictionary=id2word, corpus=corpus, texts=data_lemmatized, start=start, limit=limit, step=step)\n",
    "print('Completed!')"
   ]
  },
  {
   "cell_type": "code",
   "execution_count": 15,
   "id": "efc8a31b",
   "metadata": {},
   "outputs": [
    {
     "data": {
      "image/png": "[encoded data removed]",
      "text/plain": [
       "<Figure size 432x288 with 1 Axes>"
      ]
     },
     "metadata": {
      "needs_background": "light"
     },
     "output_type": "display_data"
    }
   ],
   "source": [
    "# Show graph\n",
    "x = range(start, limit, step)\n",
    "plt.plot(x, coherence_values)\n",
    "plt.xlabel(\"Num Topics\")\n",
    "plt.ylabel(\"Coherence score\")\n",
    "plt.legend((\"coherence_values\"), loc='best')\n",
    "plt.show()"
   ]
  },
  {
   "cell_type": "code",
   "execution_count": 16,
   "id": "96a21001",
   "metadata": {},
   "outputs": [
    {
     "name": "stdout",
     "output_type": "stream",
     "text": [
      "Num Topics = 2  has Coherence Value of 0.5141\n",
      "Num Topics = 8  has Coherence Value of 0.4373\n",
      "Num Topics = 14  has Coherence Value of 0.3767\n",
      "Num Topics = 20  has Coherence Value of 0.3826\n",
      "Num Topics = 26  has Coherence Value of 0.4432\n",
      "Num Topics = 32  has Coherence Value of 0.443\n",
      "Num Topics = 38  has Coherence Value of 0.4413\n",
      "Num Topics = 44  has Coherence Value of 0.4628\n",
      "Num Topics = 50  has Coherence Value of 0.4685\n",
      "Num Topics = 56  has Coherence Value of 0.4821\n"
     ]
    }
   ],
   "source": [
    "# Print the coherence scores\n",
    "for m, cv in zip(x, coherence_values):\n",
    "    print(\"Num Topics =\", m, \" has Coherence Value of\", round(cv, 4))"
   ]
  },
  {
   "cell_type": "code",
   "execution_count": 17,
   "id": "83c6ae06",
   "metadata": {},
   "outputs": [
    {
     "name": "stderr",
     "output_type": "stream",
     "text": [
      "/Users/shureenteh/opt/anaconda3/lib/python3.8/site-packages/pyLDAvis/_prepare.py:246: FutureWarning: In a future version of pandas all arguments of DataFrame.drop except for the argument 'labels' will be keyword-only\n",
      "  default_term_info = default_term_info.sort_values(\n"
     ]
    },
    {
     "data": {
      "text/html": [
       "\n",
       "<link rel=\"stylesheet\" type=\"text/css\" href=\"https://cdn.jsdelivr.net/gh/bmabey/pyLDAvis@3.3.1/pyLDAvis/js/ldavis.v1.0.0.css\">\n",
       "\n",
       "\n",
       "<div id=\"ldavis_el500191403908591499362999886083\"></div>\n",
       "<script type=\"text/javascript\">\n",
       "\n",
       "var ldavis_el500191403908591499362999886083_data = {\"mdsDat\": {\"x\": [-0.03222189490114901, -0.11113350457505027, 0.1433553994761992], \"y\": [-0.12947955190985858, 0.08933069002075725, 0.04014886188910137], \"topics\": [1, 2, 3], \"cluster\": [1, 1, 1], \"Freq\": [40.79373965282594, 31.27206182528562, 27.934198521888437]}, \"tinfo\": {\"Term\": [\"delivery\", \"expedition\", \"stuff\", \"name\", \"ninja\", \"xpress\", \"courier\", \"time\", \"transit\", \"service\", \"star\", \"yesterday\", \"jne\", \"kaga\", \"shipment\", \"swear\", \"way\", \"people\", \"report\", \"balikpapan\", \"jakarta\", \"change\", \"bekasi\", \"july\", \"customer\", \"recipient\", \"complaint\", \"sicepat\", \"express\", \"pickup\", \"star\", \"bekasi\", \"july\", \"customer\", \"complaint\", \"ga\", \"pasuruan\", \"pa\", \"onion\", \"process\", \"indonesia\", \"hub\", \"kg\", \"cek\", \"ternal\", \"estimation\", \"dial\", \"shopee\", \"bale\", \"damage\", \"marketplace\", \"news\", \"hun\", \"sorting\", \"respond\", \"eeeh\", \"north\", \"cikarang\", \"store\", \"apalagi\", \"delivery\", \"courier\", \"week\", \"jakarta\", \"package\", \"service\", \"status\", \"night\", \"pick\", \"kapok\", \"day\", \"time\", \"seller\", \"use\", \"even_though\", \"work\", \"expedition\", \"transit\", \"jne\", \"kaga\", \"recipient\", \"sicepat\", \"notification\", \"fellow\", \"tracking\", \"morning\", \"intention\", \"call_center\", \"le\", \"promise\", \"lg\", \"bandar\", \"seler\", \"dozen\", \"sale\", \"today\", \"cmn\", \"document\", \"deliver\", \"shop\", \"surgery\", \"xpres\", \"push\", \"fact\", \"lelet\", \"hoax\", \"huftt\", \"expedition\", \"time\", \"service\", \"want\", \"use\", \"information\", \"snail\", \"package\", \"shipping\", \"city\", \"jakarta\", \"day\", \"address\", \"work\", \"lazada\", \"ninja\", \"status\", \"week\", \"response\", \"call\", \"month\", \"kapok\", \"stuff\", \"xpress\", \"name\", \"yesterday\", \"shipment\", \"swear\", \"way\", \"people\", \"report\", \"balikpapan\", \"change\", \"uda\", \"gimna\", \"ship\", \"need\", \"home\", \"bro\", \"show\", \"come\", \"march\", \"trade\", \"clarity\", \"read\", \"ask\", \"investigation\", \"pdhal\", \"using\", \"tlp\", \"thursday\", \"dispatch\", \"ninja\", \"pickup\", \"express\", \"lot\", \"courier\", \"package\", \"day\", \"response\", \"delivery\", \"time\", \"even_though\", \"service\", \"order\", \"use\", \"ad\", \"olshop\", \"month\", \"regret\", \"jt\"], \"Freq\": [49.0, 28.0, 10.0, 10.0, 17.0, 8.0, 32.0, 60.0, 9.0, 47.0, 11.0, 5.0, 5.0, 5.0, 4.0, 4.0, 4.0, 4.0, 4.0, 4.0, 14.0, 4.0, 5.0, 5.0, 5.0, 4.0, 5.0, 4.0, 5.0, 5.0, 10.500567337438524, 5.393056806471125, 5.393037147823115, 5.387553187422264, 5.382668615187253, 3.6900674467049956, 3.6899795845843, 3.6899141894899015, 3.6897569203058254, 3.689651004324713, 3.686094795019486, 3.6727293215544217, 3.657033295307987, 1.9868411801705075, 1.9868074796310626, 1.9867860155970114, 1.986771973705576, 1.9867312522204135, 1.98672984803127, 1.9867170097305291, 1.9867160067382836, 1.9867051744220336, 1.9867025666421956, 1.9866833091910843, 1.986580803383606, 1.986556731569717, 1.9865458992534668, 1.9865406836937909, 1.9864718784257578, 1.9864686688505724, 36.94771480335838, 21.729611954667092, 8.744565424338067, 8.78462734180002, 21.211992531033044, 19.147104311681918, 5.3500003553613595, 3.701873066630042, 3.68344408711339, 3.6717471915477433, 10.017185254699045, 16.90225842127053, 4.073412286480752, 6.937365972670528, 4.919818586104544, 3.6406419948370536, 6.757709199283879, 8.472174715237637, 5.1844747731647, 5.1776052599436415, 3.5523146001233634, 3.542055848198146, 1.9128677176447975, 1.9128415756039758, 1.9128288121369865, 1.9128229686219793, 1.91281881665079, 1.91278437066759, 1.9127723760841542, 1.9127548455391326, 1.912727165731204, 1.9125509376207246, 1.9125311004250423, 1.9125261795702995, 1.9124958855582885, 1.9124700510708885, 1.9124280700288634, 1.9123913173950025, 1.9123694811020808, 1.9123690197719487, 1.9123193498943878, 1.9122935154069878, 1.9122573778799696, 1.912088838605026, 1.9118632481704072, 1.9116233565016918, 1.9116208960743204, 21.138830653689624, 32.91208634525977, 24.306301197150322, 2.8803638885942546, 8.490573791121262, 3.613611227228038, 3.5622882500269153, 17.811877668439585, 3.5433752523760806, 3.555410125310056, 5.207362283680674, 7.288410207649564, 3.5865406826271955, 3.5993958005361244, 3.5062547846231715, 5.245648378900803, 3.5862386651673512, 3.326164110724072, 2.257375527980083, 1.9355237942111454, 1.9261057395634067, 1.9158502169491143, 10.052555673721573, 8.429599523990293, 9.945478344905531, 5.165604188974242, 3.534795262234348, 3.534508997413365, 3.5344883929396858, 3.53429416143447, 3.525381490299797, 3.5224339516584093, 3.4873068954774857, 1.9033316626840868, 1.903270948168312, 1.9032091347472746, 1.9032092721104323, 1.9031863324630696, 1.9031830357472808, 1.9031588598314972, 1.903150205952552, 1.9031429257051853, 1.9031399037157124, 1.9031221838683483, 1.9031258926736105, 1.903094848599934, 1.9030824859157265, 1.9030782276578326, 1.903050205573629, 1.9030029526473247, 1.9029899031473279, 1.9029497931052324, 11.573310886740886, 3.5714127086780665, 3.542050509506266, 3.55632803613437, 10.247826743316148, 13.361345134516194, 8.446289147670441, 3.185836522371918, 11.597401087913969, 10.624399598803436, 4.014776201864886, 3.981152997536228, 2.3404748026303155, 2.040670781992763, 1.9230866825950679, 1.9217837930427533, 1.925748505868104, 1.918319768927807, 1.916131161733603], \"Total\": [49.0, 28.0, 10.0, 10.0, 17.0, 8.0, 32.0, 60.0, 9.0, 47.0, 11.0, 5.0, 5.0, 5.0, 4.0, 4.0, 4.0, 4.0, 4.0, 4.0, 14.0, 4.0, 5.0, 5.0, 5.0, 4.0, 5.0, 4.0, 5.0, 5.0, 11.049727597133586, 5.939498182648283, 5.9394973628141985, 5.93928746409297, 5.939093746311846, 4.236068479653609, 4.236064678876824, 4.2360618274724775, 4.236054199653025, 4.236049907718229, 4.235917145103844, 4.235340234946447, 4.234795411472951, 2.5326267847374506, 2.532625296460608, 2.532624583144802, 2.5326239001396473, 2.532622158144144, 2.5326220798294288, 2.53262163405857, 2.5326215589543097, 2.5326209834160744, 2.532620805035467, 2.532620014521617, 2.5326154857514593, 2.5326140684804743, 2.5326138062347803, 2.53261319233123, 2.532610500178588, 2.532610265960058, 49.69927115454239, 32.73904569138379, 12.623011641514552, 14.265983778401504, 52.38521533398882, 47.43455850636847, 9.217939332457512, 5.876523914202216, 5.867752461907006, 5.87532343007156, 25.75188461001905, 60.43874436533374, 7.5222908636277115, 17.468610545784554, 10.82351193669708, 7.514305575704446, 28.947329754972998, 9.029589041596536, 5.749725951722403, 5.750013038368391, 4.1093662737625705, 4.109755568202368, 2.4692871915466967, 2.469285854249063, 2.469287313879292, 2.469287120109799, 2.469287370219836, 2.46928718004213, 2.469286438182154, 2.469287232311782, 2.4692881221296306, 2.469288837263717, 2.4692906869962803, 2.469289212540271, 2.4692879105719947, 2.46929201368172, 2.4692899455213007, 2.469291749193609, 2.4692925156635495, 2.4692920260054274, 2.4692900517765706, 2.469291811207638, 2.469291851473773, 2.46929328630063, 2.469295558091231, 2.469292108381744, 2.469321734472006, 28.947329754972998, 60.43874436533374, 47.43455850636847, 4.106305950603554, 17.468610545784554, 5.81035140020079, 5.741399208765555, 52.38521533398882, 5.741353850265344, 5.812604109083732, 14.265983778401504, 25.75188461001905, 7.4436869362372455, 7.514305575704446, 7.447407352040647, 17.176719277726114, 9.217939332457512, 12.623011641514552, 5.735272760489485, 4.171758735799941, 5.803178868397689, 5.87532343007156, 10.62137112948386, 8.989263766815386, 10.625495751573375, 5.725277421826195, 4.093240026733209, 4.093261159053675, 4.093257188371554, 4.093254343717205, 4.093386043622639, 4.093303788234486, 4.093640154377302, 2.4612277192443166, 2.4612294810388233, 2.4612288122648893, 2.4612314867194844, 2.4612308252271182, 2.4612312795243567, 2.4612322402697546, 2.4612307795467783, 2.4612305106521744, 2.4612329293023913, 2.4612296737043193, 2.4612394826976542, 2.4612303754115192, 2.4612320089472774, 2.461232477485673, 2.4612318633365753, 2.461230989469133, 2.4612300185886293, 2.4612320474021017, 17.176719277726114, 5.794630528199244, 5.733240295290159, 5.795674058409401, 32.73904569138379, 52.38521533398882, 25.75188461001905, 5.735272760489485, 49.69927115454239, 60.43874436533374, 10.82351193669708, 47.43455850636847, 7.4920252633101105, 17.468610545784554, 4.101172444632773, 4.163770258809372, 5.803178868397689, 4.163920119468457, 4.1016367835513226], \"Category\": [\"Default\", \"Default\", \"Default\", \"Default\", \"Default\", \"Default\", \"Default\", \"Default\", \"Default\", \"Default\", \"Default\", \"Default\", \"Default\", \"Default\", \"Default\", \"Default\", \"Default\", \"Default\", \"Default\", \"Default\", \"Default\", \"Default\", \"Default\", \"Default\", \"Default\", \"Default\", \"Default\", \"Default\", \"Default\", \"Default\", \"Topic1\", \"Topic1\", \"Topic1\", \"Topic1\", \"Topic1\", \"Topic1\", \"Topic1\", \"Topic1\", \"Topic1\", \"Topic1\", \"Topic1\", \"Topic1\", \"Topic1\", \"Topic1\", \"Topic1\", \"Topic1\", \"Topic1\", \"Topic1\", \"Topic1\", \"Topic1\", \"Topic1\", \"Topic1\", \"Topic1\", \"Topic1\", \"Topic1\", \"Topic1\", \"Topic1\", \"Topic1\", \"Topic1\", \"Topic1\", \"Topic1\", \"Topic1\", \"Topic1\", \"Topic1\", \"Topic1\", \"Topic1\", \"Topic1\", \"Topic1\", \"Topic1\", \"Topic1\", \"Topic1\", \"Topic1\", \"Topic1\", \"Topic1\", \"Topic1\", \"Topic1\", \"Topic1\", \"Topic2\", \"Topic2\", \"Topic2\", \"Topic2\", \"Topic2\", \"Topic2\", \"Topic2\", \"Topic2\", \"Topic2\", \"Topic2\", \"Topic2\", \"Topic2\", \"Topic2\", \"Topic2\", \"Topic2\", \"Topic2\", \"Topic2\", \"Topic2\", \"Topic2\", \"Topic2\", \"Topic2\", \"Topic2\", \"Topic2\", \"Topic2\", \"Topic2\", \"Topic2\", \"Topic2\", \"Topic2\", \"Topic2\", \"Topic2\", \"Topic2\", \"Topic2\", \"Topic2\", \"Topic2\", \"Topic2\", \"Topic2\", \"Topic2\", \"Topic2\", \"Topic2\", \"Topic2\", \"Topic2\", \"Topic2\", \"Topic2\", \"Topic2\", \"Topic2\", \"Topic2\", \"Topic2\", \"Topic2\", \"Topic2\", \"Topic2\", \"Topic2\", \"Topic2\", \"Topic3\", \"Topic3\", \"Topic3\", \"Topic3\", \"Topic3\", \"Topic3\", \"Topic3\", \"Topic3\", \"Topic3\", \"Topic3\", \"Topic3\", \"Topic3\", \"Topic3\", \"Topic3\", \"Topic3\", \"Topic3\", \"Topic3\", \"Topic3\", \"Topic3\", \"Topic3\", \"Topic3\", \"Topic3\", \"Topic3\", \"Topic3\", \"Topic3\", \"Topic3\", \"Topic3\", \"Topic3\", \"Topic3\", \"Topic3\", \"Topic3\", \"Topic3\", \"Topic3\", \"Topic3\", \"Topic3\", \"Topic3\", \"Topic3\", \"Topic3\", \"Topic3\", \"Topic3\", \"Topic3\", \"Topic3\", \"Topic3\", \"Topic3\", \"Topic3\", \"Topic3\", \"Topic3\", \"Topic3\", \"Topic3\"], \"logprob\": [30.0, 29.0, 28.0, 27.0, 26.0, 25.0, 24.0, 23.0, 22.0, 21.0, 20.0, 19.0, 18.0, 17.0, 16.0, 15.0, 14.0, 13.0, 12.0, 11.0, 10.0, 9.0, 8.0, 7.0, 6.0, 5.0, 4.0, 3.0, 2.0, 1.0, -3.7142, -4.3805, -4.3805, -4.3815, -4.3824, -4.76, -4.76, -4.76, -4.76, -4.7601, -4.761, -4.7647, -4.7689, -5.3791, -5.3791, -5.3791, -5.3791, -5.3791, -5.3791, -5.3791, -5.3791, -5.3791, -5.3791, -5.3791, -5.3792, -5.3792, -5.3792, -5.3792, -5.3792, -5.3792, -2.4561, -2.9869, -3.8972, -3.8926, -3.011, -3.1135, -4.3885, -4.7568, -4.7618, -4.7649, -3.7613, -3.2382, -4.6611, -4.1287, -4.4723, -4.7734, -4.1549, -3.663, -4.1541, -4.1555, -4.5322, -4.5351, -5.1512, -5.1512, -5.1512, -5.1512, -5.1512, -5.1512, -5.1512, -5.1513, -5.1513, -5.1514, -5.1514, -5.1514, -5.1514, -5.1514, -5.1514, -5.1514, -5.1515, -5.1515, -5.1515, -5.1515, -5.1515, -5.1516, -5.1517, -5.1518, -5.1518, -2.7487, -2.306, -2.6091, -4.7419, -3.6608, -4.5151, -4.5294, -2.9199, -4.5347, -4.5313, -4.1497, -3.8135, -4.5226, -4.519, -4.5452, -4.1424, -4.5227, -4.598, -4.9856, -5.1394, -5.1443, -5.1496, -3.3791, -3.5552, -3.3898, -4.0449, -4.4243, -4.4244, -4.4244, -4.4244, -4.4269, -4.4278, -4.4378, -5.0433, -5.0434, -5.0434, -5.0434, -5.0434, -5.0434, -5.0434, -5.0434, -5.0434, -5.0434, -5.0434, -5.0434, -5.0434, -5.0435, -5.0435, -5.0435, -5.0435, -5.0435, -5.0435, -3.2382, -4.414, -4.4222, -4.4182, -3.3599, -3.0946, -3.5532, -4.5282, -3.2361, -3.3238, -4.2969, -4.3054, -4.8366, -4.9736, -5.033, -5.0337, -5.0316, -5.0355, -5.0366], \"loglift\": [30.0, 29.0, 28.0, 27.0, 26.0, 25.0, 24.0, 23.0, 22.0, 21.0, 20.0, 19.0, 18.0, 17.0, 16.0, 15.0, 14.0, 13.0, 12.0, 11.0, 10.0, 9.0, 8.0, 7.0, 6.0, 5.0, 4.0, 3.0, 2.0, 1.0, 0.8457, 0.8001, 0.8001, 0.7991, 0.7983, 0.7587, 0.7586, 0.7586, 0.7586, 0.7585, 0.7576, 0.7541, 0.75, 0.6539, 0.6539, 0.6539, 0.6539, 0.6539, 0.6539, 0.6539, 0.6539, 0.6539, 0.6539, 0.6539, 0.6538, 0.6538, 0.6538, 0.6538, 0.6538, 0.6537, 0.6002, 0.4867, 0.5296, 0.4118, -0.0074, -0.0106, 0.3526, 0.4345, 0.431, 0.4265, -0.0476, -0.3775, 0.2833, -0.0268, 0.1082, 0.172, -0.5582, 1.0987, 1.059, 1.0576, 1.0168, 1.0138, 0.9071, 0.9071, 0.9071, 0.9071, 0.9071, 0.9071, 0.9071, 0.9071, 0.907, 0.907, 0.9069, 0.9069, 0.9069, 0.9069, 0.9069, 0.9069, 0.9069, 0.9069, 0.9068, 0.9068, 0.9068, 0.9067, 0.9066, 0.9065, 0.9065, 0.8481, 0.5547, 0.4938, 0.8078, 0.441, 0.6875, 0.6851, 0.0837, 0.6798, 0.6709, 0.1546, -0.0998, 0.4323, 0.4264, 0.4091, -0.0237, 0.2184, -0.1713, 0.23, 0.3945, 0.0595, 0.0418, 1.2203, 1.211, 1.2092, 1.1724, 1.1286, 1.1286, 1.1285, 1.1285, 1.1259, 1.1251, 1.115, 1.0183, 1.0182, 1.0182, 1.0182, 1.0182, 1.0182, 1.0182, 1.0182, 1.0182, 1.0182, 1.0182, 1.0182, 1.0181, 1.0181, 1.0181, 1.0181, 1.0181, 1.0181, 1.0181, 0.8805, 0.7913, 0.7937, 0.7869, 0.1138, -0.0909, 0.1605, 0.6874, -0.1799, -0.4632, 0.2836, -1.2025, 0.1118, -0.8718, 0.518, 0.5022, 0.1722, 0.5003, 0.5142]}, \"token.table\": {\"Topic\": [2, 3, 1, 2, 3, 1, 3, 1, 3, 2, 1, 3, 1, 2, 2, 1, 3, 1, 1, 2, 3, 2, 3, 1, 1, 2, 3, 1, 1, 1, 2, 3, 2, 1, 2, 3, 1, 3, 2, 2, 1, 1, 1, 2, 3, 1, 2, 3, 2, 3, 2, 2, 1, 3, 2, 3, 1, 2, 1, 1, 1, 2, 2, 3, 1, 2, 2, 2, 3, 1, 2, 1, 2, 1, 1, 2, 3, 2, 2, 2, 1, 3, 3, 1, 1, 2, 3, 2, 3, 3, 1, 1, 2, 2, 3, 1, 2, 1, 3, 1, 1, 2, 3, 1, 1, 2, 3, 1, 3, 3, 1, 3, 1, 3, 1, 2, 2, 3, 2, 1, 3, 3, 1, 2, 3, 2, 2, 1, 2, 3, 1, 2, 3, 3, 3, 2, 3, 2, 1, 3, 2, 2, 3, 1, 1, 1, 2, 1, 3, 2, 3, 1, 3, 1, 2, 3, 3, 2, 2, 3, 2, 3, 1, 2, 3, 3, 2, 3, 3, 1, 2, 3, 1, 2, 2, 3, 3], \"Freq\": [0.4876654242172652, 0.4876654242172652, 0.2686840563194067, 0.5373681126388135, 0.2686840563194067, 0.7896990811738035, 0.8126017052205439, 0.7896953974809773, 0.9772057504007711, 0.809949800046985, 0.8418219597418275, 0.8126014067180669, 0.4794141096504463, 0.4794141096504463, 0.8099503436315078, 0.7896939304491063, 0.7328440915335757, 0.7896981686962753, 0.34407985860837675, 0.6881597172167535, 0.8126019368967964, 0.8099494365283105, 0.8126015717909593, 0.8418792855568209, 0.6719804910437548, 0.030544567774716126, 0.30544567774716125, 0.8418518265412137, 0.7896955364765503, 0.3883210938320759, 0.2718247656824532, 0.31065687506566075, 0.8099485934992837, 0.7444777184950386, 0.020121019418784827, 0.24145223302541793, 0.7896948298915292, 0.8126011531952281, 0.8099488449079115, 0.8099496769527893, 0.7896978955028732, 0.7896946169244582, 0.4619572675895997, 0.18478290703583988, 0.36956581407167977, 0.2418185048241777, 0.7254555144725331, 0.03454550068916824, 0.3488428701729098, 0.6976857403458196, 0.8099483407239562, 0.8099507785048329, 0.9442717980628792, 0.8126020005074253, 0.8099487270911437, 0.8126015567091085, 0.9444341606833334, 0.8099390095991856, 0.7896957949739309, 0.9443055336017294, 0.34421326048040496, 0.6884265209608099, 0.8099502812513651, 0.8126011658914852, 0.6308713187818055, 0.3504840659898919, 0.8696066633405697, 0.4876102164922411, 0.4876102164922411, 0.8418220759392585, 0.8695632456198372, 0.6808135837300247, 0.3404067918650123, 0.944555665939176, 0.26854983290956747, 0.5370996658191349, 0.26854983290956747, 0.8099505869689081, 0.8099475955587929, 0.8099500346177123, 0.34508496852027803, 0.6901699370405561, 0.8126016605693881, 0.7896955598947744, 0.344638696368878, 0.344638696368878, 0.344638696368878, 0.8099503632898989, 0.9411325583109141, 0.8126013383104209, 0.7896957393531268, 0.6806745039074739, 0.34033725195373693, 0.29109167584078427, 0.6986200220178822, 0.7896979772740742, 0.8099503398578974, 0.4803338982905121, 0.4803338982905121, 0.9442749812614861, 0.400425772012753, 0.26695051467516867, 0.26695051467516867, 0.9442732809182514, 0.40087646611952904, 0.34360839953102484, 0.24816162188351795, 0.9442726453035615, 0.8126010111987245, 0.9772175545699128, 0.6816920151229435, 0.34084600756147176, 0.34514711339525656, 0.6902942267905131, 0.9442759379939935, 0.8099503264865512, 0.8099488113591431, 0.8125986983631067, 0.9733860973988007, 0.4803166109380861, 0.4803166109380861, 0.9771861137387393, 0.7896974535818944, 0.3487192472828977, 0.5230788709243466, 0.8099501040106387, 0.8099491933178836, 0.5317529024756368, 0.2658764512378184, 0.2658764512378184, 0.4005518465497913, 0.505960227220789, 0.08432670453679816, 0.8126022213105599, 0.9772209725976848, 0.6966997862037602, 0.3483498931018801, 0.8099487541112742, 0.7896953730617128, 0.8126010895179876, 0.9732938939114631, 0.6966942820999257, 0.34834714104996284, 0.7896960414639135, 0.9954996540234634, 0.5424205800958548, 0.43393646407668385, 0.7896990081415872, 0.9414980305359073, 0.8099494016756223, 0.9772159274891622, 0.7896943945063796, 0.8126018230294796, 0.2812765251581038, 0.5460073723657309, 0.18200245745524363, 0.8126015024828627, 0.8099487581535549, 0.8099502997316121, 0.8126008620268531, 0.8859760907330847, 0.8126025821836876, 0.4007187624713065, 0.4579642999672074, 0.11449107499180185, 0.8126012139663652, 0.7305836525792856, 0.2435278841930952, 0.9772168754417664, 0.7129835775799181, 0.23766119252663936, 0.0792203975088798, 0.5323179846362597, 0.5323179846362597, 0.8099488245667793, 0.8899505240387611, 0.8733201261023169], \"Term\": [\"ad\", \"ad\", \"address\", \"address\", \"address\", \"apalagi\", \"ask\", \"bale\", \"balikpapan\", \"bandar\", \"bekasi\", \"bro\", \"call\", \"call\", \"call_center\", \"cek\", \"change\", \"cikarang\", \"city\", \"city\", \"clarity\", \"cmn\", \"come\", \"complaint\", \"courier\", \"courier\", \"courier\", \"customer\", \"damage\", \"day\", \"day\", \"day\", \"deliver\", \"delivery\", \"delivery\", \"delivery\", \"dial\", \"dispatch\", \"document\", \"dozen\", \"eeeh\", \"estimation\", \"even_though\", \"even_though\", \"even_though\", \"expedition\", \"expedition\", \"expedition\", \"express\", \"express\", \"fact\", \"fellow\", \"ga\", \"gimna\", \"hoax\", \"home\", \"hub\", \"huftt\", \"hun\", \"indonesia\", \"information\", \"information\", \"intention\", \"investigation\", \"jakarta\", \"jakarta\", \"jne\", \"jt\", \"jt\", \"july\", \"kaga\", \"kapok\", \"kapok\", \"kg\", \"lazada\", \"lazada\", \"lazada\", \"le\", \"lelet\", \"lg\", \"lot\", \"lot\", \"march\", \"marketplace\", \"month\", \"month\", \"month\", \"morning\", \"name\", \"need\", \"news\", \"night\", \"night\", \"ninja\", \"ninja\", \"north\", \"notification\", \"olshop\", \"olshop\", \"onion\", \"order\", \"order\", \"order\", \"pa\", \"package\", \"package\", \"package\", \"pasuruan\", \"pdhal\", \"people\", \"pick\", \"pick\", \"pickup\", \"pickup\", \"process\", \"promise\", \"push\", \"read\", \"recipient\", \"regret\", \"regret\", \"report\", \"respond\", \"response\", \"response\", \"sale\", \"seler\", \"seller\", \"seller\", \"seller\", \"service\", \"service\", \"service\", \"ship\", \"shipment\", \"shipping\", \"shipping\", \"shop\", \"shopee\", \"show\", \"sicepat\", \"snail\", \"snail\", \"sorting\", \"star\", \"status\", \"status\", \"store\", \"stuff\", \"surgery\", \"swear\", \"ternal\", \"thursday\", \"time\", \"time\", \"time\", \"tlp\", \"today\", \"tracking\", \"trade\", \"transit\", \"uda\", \"use\", \"use\", \"use\", \"using\", \"want\", \"want\", \"way\", \"week\", \"week\", \"week\", \"work\", \"work\", \"xpres\", \"xpress\", \"yesterday\"]}, \"R\": 30, \"lambda.step\": 0.01, \"plot.opts\": {\"xlab\": \"PC1\", \"ylab\": \"PC2\"}, \"topic.order\": [3, 1, 2]};\n",
       "\n",
       "function LDAvis_load_lib(url, callback){\n",
       "  var s = document.createElement('script');\n",
       "  s.src = url;\n",
       "  s.async = true;\n",
       "  s.onreadystatechange = s.onload = callback;\n",
       "  s.onerror = function(){console.warn(\"failed to load library \" + url);};\n",
       "  document.getElementsByTagName(\"head\")[0].appendChild(s);\n",
       "}\n",
       "\n",
       "if(typeof(LDAvis) !== \"undefined\"){\n",
       "   // already loaded: just create the visualization\n",
       "   !function(LDAvis){\n",
       "       new LDAvis(\"#\" + \"ldavis_el500191403908591499362999886083\", ldavis_el500191403908591499362999886083_data);\n",
       "   }(LDAvis);\n",
       "}else if(typeof define === \"function\" && define.amd){\n",
       "   // require.js is available: use it to load d3/LDAvis\n",
       "   require.config({paths: {d3: \"https://d3js.org/d3.v5\"}});\n",
       "   require([\"d3\"], function(d3){\n",
       "      window.d3 = d3;\n",
       "      LDAvis_load_lib(\"https://cdn.jsdelivr.net/gh/bmabey/pyLDAvis@3.3.1/pyLDAvis/js/ldavis.v3.0.0.js\", function(){\n",
       "        new LDAvis(\"#\" + \"ldavis_el500191403908591499362999886083\", ldavis_el500191403908591499362999886083_data);\n",
       "      });\n",
       "    });\n",
       "}else{\n",
       "    // require.js not available: dynamically load d3 & LDAvis\n",
       "    LDAvis_load_lib(\"https://d3js.org/d3.v5.js\", function(){\n",
       "         LDAvis_load_lib(\"https://cdn.jsdelivr.net/gh/bmabey/pyLDAvis@3.3.1/pyLDAvis/js/ldavis.v3.0.0.js\", function(){\n",
       "                 new LDAvis(\"#\" + \"ldavis_el500191403908591499362999886083\", ldavis_el500191403908591499362999886083_data);\n",
       "            })\n",
       "         });\n",
       "}\n",
       "</script>"
      ],
      "text/plain": [
       "PreparedData(topic_coordinates=              x         y  topics  cluster       Freq\n",
       "topic                                                \n",
       "2     -0.032222 -0.129480       1        1  40.793740\n",
       "0     -0.111134  0.089331       2        1  31.272062\n",
       "1      0.143355  0.040149       3        1  27.934199, topic_info=           Term       Freq      Total Category  logprob  loglift\n",
       "0      delivery  49.000000  49.000000  Default  30.0000  30.0000\n",
       "18   expedition  28.000000  28.000000  Default  29.0000  29.0000\n",
       "39        stuff  10.000000  10.000000  Default  28.0000  28.0000\n",
       "41         name  10.000000  10.000000  Default  27.0000  27.0000\n",
       "29        ninja  17.000000  17.000000  Default  26.0000  26.0000\n",
       "..          ...        ...        ...      ...      ...      ...\n",
       "27           ad   1.923087   4.101172   Topic3  -5.0330   0.5180\n",
       "121      olshop   1.921784   4.163770   Topic3  -5.0337   0.5022\n",
       "35        month   1.925749   5.803179   Topic3  -5.0316   0.1722\n",
       "144      regret   1.918320   4.163920   Topic3  -5.0355   0.5003\n",
       "45           jt   1.916131   4.101637   Topic3  -5.0366   0.5142\n",
       "\n",
       "[178 rows x 6 columns], token_table=      Topic      Freq       Term\n",
       "term                            \n",
       "27        2  0.487665         ad\n",
       "27        3  0.487665         ad\n",
       "80        1  0.268684    address\n",
       "80        2  0.537368    address\n",
       "80        3  0.268684    address\n",
       "...     ...       ...        ...\n",
       "31        1  0.532318       work\n",
       "31        2  0.532318       work\n",
       "210       2  0.809949      xpres\n",
       "56        3  0.889951     xpress\n",
       "57        3  0.873320  yesterday\n",
       "\n",
       "[177 rows x 3 columns], R=30, lambda_step=0.01, plot_opts={'xlab': 'PC1', 'ylab': 'PC2'}, topic_order=[3, 1, 2])"
      ]
     },
     "execution_count": 17,
     "metadata": {},
     "output_type": "execute_result"
    }
   ],
   "source": [
    "# Visualize the topics\n",
    "pyLDAvis.enable_notebook()\n",
    "vis = pyLDAvis.gensim_models.prepare(lda_model, corpus, id2word)\n",
    "vis"
   ]
  },
  {
   "cell_type": "code",
   "execution_count": 18,
   "id": "3b5553b1",
   "metadata": {},
   "outputs": [
    {
     "data": {
      "text/html": [
       "<div>\n",
       "<style scoped>\n",
       "    .dataframe tbody tr th:only-of-type {\n",
       "        vertical-align: middle;\n",
       "    }\n",
       "\n",
       "    .dataframe tbody tr th {\n",
       "        vertical-align: top;\n",
       "    }\n",
       "\n",
       "    .dataframe thead th {\n",
       "        text-align: right;\n",
       "    }\n",
       "</style>\n",
       "<table border=\"1\" class=\"dataframe\">\n",
       "  <thead>\n",
       "    <tr style=\"text-align: right;\">\n",
       "      <th></th>\n",
       "      <th>dominant_topic</th>\n",
       "      <th>topic_perc_contrib</th>\n",
       "      <th>keywords</th>\n",
       "    </tr>\n",
       "  </thead>\n",
       "  <tbody>\n",
       "    <tr>\n",
       "      <th>0</th>\n",
       "      <td>2.0</td>\n",
       "      <td>0.9318</td>\n",
       "      <td>delivery, courier, package, service, time, sta...</td>\n",
       "    </tr>\n",
       "    <tr>\n",
       "      <th>1</th>\n",
       "      <td>2.0</td>\n",
       "      <td>0.9370</td>\n",
       "      <td>delivery, courier, package, service, time, sta...</td>\n",
       "    </tr>\n",
       "    <tr>\n",
       "      <th>2</th>\n",
       "      <td>0.0</td>\n",
       "      <td>0.7751</td>\n",
       "      <td>time, service, expedition, package, use, trans...</td>\n",
       "    </tr>\n",
       "    <tr>\n",
       "      <th>3</th>\n",
       "      <td>2.0</td>\n",
       "      <td>0.9103</td>\n",
       "      <td>delivery, courier, package, service, time, sta...</td>\n",
       "    </tr>\n",
       "    <tr>\n",
       "      <th>4</th>\n",
       "      <td>2.0</td>\n",
       "      <td>0.8093</td>\n",
       "      <td>delivery, courier, package, service, time, sta...</td>\n",
       "    </tr>\n",
       "  </tbody>\n",
       "</table>\n",
       "</div>"
      ],
      "text/plain": [
       "   dominant_topic  topic_perc_contrib  \\\n",
       "0             2.0              0.9318   \n",
       "1             2.0              0.9370   \n",
       "2             0.0              0.7751   \n",
       "3             2.0              0.9103   \n",
       "4             2.0              0.8093   \n",
       "\n",
       "                                            keywords  \n",
       "0  delivery, courier, package, service, time, sta...  \n",
       "1  delivery, courier, package, service, time, sta...  \n",
       "2  time, service, expedition, package, use, trans...  \n",
       "3  delivery, courier, package, service, time, sta...  \n",
       "4  delivery, courier, package, service, time, sta...  "
      ]
     },
     "execution_count": 18,
     "metadata": {},
     "output_type": "execute_result"
    },
    {
     "name": "stderr",
     "output_type": "stream",
     "text": [
      "/Users/shureenteh/opt/anaconda3/lib/python3.8/site-packages/past/builtins/misc.py:45: DeprecationWarning: the imp module is deprecated in favour of importlib; see the module's documentation for alternative uses\n",
      "  from imp import reload\n",
      "/Users/shureenteh/opt/anaconda3/lib/python3.8/site-packages/past/builtins/misc.py:45: DeprecationWarning: the imp module is deprecated in favour of importlib; see the module's documentation for alternative uses\n",
      "  from imp import reload\n",
      "/Users/shureenteh/opt/anaconda3/lib/python3.8/site-packages/past/builtins/misc.py:45: DeprecationWarning: the imp module is deprecated in favour of importlib; see the module's documentation for alternative uses\n",
      "  from imp import reload\n",
      "/Users/shureenteh/opt/anaconda3/lib/python3.8/site-packages/past/builtins/misc.py:45: DeprecationWarning: the imp module is deprecated in favour of importlib; see the module's documentation for alternative uses\n",
      "  from imp import reload\n",
      "/Users/shureenteh/opt/anaconda3/lib/python3.8/site-packages/past/builtins/misc.py:45: DeprecationWarning: the imp module is deprecated in favour of importlib; see the module's documentation for alternative uses\n",
      "  from imp import reload\n",
      "/Users/shureenteh/opt/anaconda3/lib/python3.8/site-packages/past/builtins/misc.py:45: DeprecationWarning: the imp module is deprecated in favour of importlib; see the module's documentation for alternative uses\n",
      "  from imp import reload\n",
      "/Users/shureenteh/opt/anaconda3/lib/python3.8/site-packages/past/builtins/misc.py:45: DeprecationWarning: the imp module is deprecated in favour of importlib; see the module's documentation for alternative uses\n",
      "  from imp import reload\n"
     ]
    }
   ],
   "source": [
    "def format_topics_sentences(ldamodel=lda_model, corpus=corpus):\n",
    "    # Init output\n",
    "    sent_topics_df = pd.DataFrame()\n",
    "\n",
    "    # Get main topic in each document\n",
    "    for i, row in enumerate(ldamodel[corpus]):\n",
    "        row = sorted(row, key=lambda x: (x[1]), reverse=True)\n",
    "        # Get the Dominant topic, Perc Contribution and Keywords for each document\n",
    "        for j, (topic_num, prop_topic) in enumerate(row):\n",
    "            if j == 0:  # => dominant topic\n",
    "                wp = ldamodel.show_topic(topic_num)\n",
    "                topic_keywords = \", \".join([word for word, prop in wp])\n",
    "                sent_topics_df = sent_topics_df.append(pd.Series([int(topic_num), round(prop_topic,4), topic_keywords]), ignore_index=True)\n",
    "            else:\n",
    "                break\n",
    "    sent_topics_df.columns = ['dominant_topic', 'topic_perc_contrib', 'keywords']\n",
    "    \n",
    "    return(sent_topics_df)\n",
    "\n",
    "df_topic_sents_keywords = format_topics_sentences(ldamodel=lda_model, corpus=corpus)\n",
    "df_topic_sents_keywords.head()\n",
    "\n"
   ]
  },
  {
   "cell_type": "code",
   "execution_count": null,
   "id": "b5137cb6",
   "metadata": {},
   "outputs": [],
   "source": []
  },
  {
   "cell_type": "code",
   "execution_count": null,
   "id": "6d84ce00",
   "metadata": {},
   "outputs": [],
   "source": []
  },
  {
   "cell_type": "code",
   "execution_count": 24,
   "id": "0fa142eb",
   "metadata": {},
   "outputs": [],
   "source": [
    "\n",
    "# data = df['Late reviews']\n",
    "# vectorizer = TfidfVectorizer()\n",
    "# tdf = vectorizer.fit_transform(data)\n",
    "\n"
   ]
  },
  {
   "cell_type": "code",
   "execution_count": 25,
   "id": "4ac6670e",
   "metadata": {},
   "outputs": [],
   "source": [
    "# import nltk\n",
    "# import re\n",
    "\n",
    "# stop_list = nltk.corpus.stopwords.words('english')\n",
    "# # The following list is to further remove some frequent words in SGNews.\n",
    "# # stop_list += ['would', 'said', 'say', 'year', 'day', 'also', 'first', 'last', 'one', 'two', 'people', 'told', 'new', 'could', 'singapore', 'three', 'may', 'like', 'world', 'since']\n",
    "\n",
    "# import gensim\n",
    "\n",
    "# def load_corpus(dir):\n",
    "#     # dir is a directory with plain text files to load.\n",
    "#     corpus = nltk.corpus.PlaintextCorpusReader(dir, '.+\\.txt')\n",
    "#     return corpus\n",
    "\n",
    "# def corpus2docs(corpus):\n",
    "#     # corpus is a object returned by load_corpus that represents a corpus.\n",
    "#     fids = corpus.fileids()\n",
    "#     docs1 = []\n",
    "#     for fid in fids:\n",
    "#         doc_raw = corpus.raw(fid)\n",
    "#         doc = nltk.word_tokenize(doc_raw)\n",
    "#         docs1.append(doc)\n",
    "#     docs2 = [[w.lower() for w in doc] for doc in docs1]\n",
    "#     docs3 = [[w for w in doc if re.search('^[a-z]+$', w)] for doc in docs2]\n",
    "#     docs4 = [[w for w in doc if w not in stop_list] for doc in docs3]\n",
    "#     return docs4\n",
    "\n",
    "# def docs2vecs(docs, dictionary):\n",
    "#     # docs is a list of documents returned by corpus2docs.\n",
    "#     # dictionary is a gensim.corpora.Dictionary object.\n",
    "#     vecs1 = [dictionary.doc2bow(doc) for doc in docs]\n",
    "#     return vecs1\n",
    "\n",
    "    "
   ]
  },
  {
   "cell_type": "code",
   "execution_count": null,
   "id": "a4c51a9a",
   "metadata": {},
   "outputs": [],
   "source": []
  },
  {
   "cell_type": "code",
   "execution_count": null,
   "id": "2505f876",
   "metadata": {},
   "outputs": [],
   "source": []
  },
  {
   "cell_type": "code",
   "execution_count": null,
   "id": "0cca93d1",
   "metadata": {},
   "outputs": [],
   "source": []
  }
 ],
 "metadata": {
  "kernelspec": {
   "display_name": "Python 3 (ipykernel)",
   "language": "python",
   "name": "python3"
  },
  "language_info": {
   "codemirror_mode": {
    "name": "ipython",
    "version": 3
   },
   "file_extension": ".py",
   "mimetype": "text/x-python",
   "name": "python",
   "nbconvert_exporter": "python",
   "pygments_lexer": "ipython3",
   "version": "3.8.12"
  }
 },
 "nbformat": 4,
 "nbformat_minor": 5
}
