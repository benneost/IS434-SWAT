{
 "cells": [
  {
   "cell_type": "code",
   "execution_count": null,
   "id": "b11c7a59",
   "metadata": {},
   "outputs": [],
   "source": [
    "#combine files \n",
    "import glob \n",
    "import os\n",
    "#clean \n",
    "import string\n",
    "import pandas as pd\n",
    "import numpy as np\n",
    "import emoji\n",
    "import nltk\n",
    "import re \n",
    "from cleantext import clean\n",
    "#sleep timer \n",
    "import time \n",
    "import logging\n",
    "import threading\n",
    "#show most common words\n",
    "from collections import Counter\n",
    "#word cloud \n",
    "from wordcloud import WordCloud\n",
    "import matplotlib.pyplot as plt"
   ]
  },
  {
   "cell_type": "code",
   "execution_count": null,
   "id": "99261f8d",
   "metadata": {},
   "outputs": [],
   "source": [
    "df = pd.read_csv('PLACE UR CSV FILE PATH')\n",
    "df"
   ]
  },
  {
   "cell_type": "code",
   "execution_count": null,
   "id": "b2e4aa01",
   "metadata": {},
   "outputs": [],
   "source": [
    "#combining the text into one long string for word cloud \n",
    "cloud_string = df['Reviews'].str.cat(sep=' ')"
   ]
  },
  {
   "cell_type": "code",
   "execution_count": null,
   "id": "37a618e8",
   "metadata": {},
   "outputs": [],
   "source": [
    "# Let's first pull out the top 30 words for each category\n",
    "words = []\n",
    "for word in cloud_string.split():\n",
    "        words.append(word)\n",
    "Counter(words).most_common()"
   ]
  },
  {
   "cell_type": "code",
   "execution_count": null,
   "id": "c99075d2",
   "metadata": {},
   "outputs": [],
   "source": [
    "allwords = Counter(words).most_common()\n",
    "allWordsDf = pd.DataFrame(allwords, columns=['word', 'count'])\n",
    "allWordsDf.head()"
   ]
  },
  {
   "cell_type": "code",
   "execution_count": null,
   "id": "15f95e32",
   "metadata": {},
   "outputs": [],
   "source": [
    "from vaderSentiment.vaderSentiment import SentimentIntensityAnalyzer\n",
    "\n",
    "def sentiment_scores(sentence):\n",
    "    sid_obj = SentimentIntensityAnalyzer() \n",
    "    sentiment_dict = sid_obj.polarity_scores(sentence) \n",
    "    if sentiment_dict['compound'] >= 0.05 : \n",
    "       return \"Positive\"\n",
    "    elif sentiment_dict['compound'] <= - 0.05 : \n",
    "        return \"Negative\"\n",
    "    else : \n",
    "       return \"Neutral\""
   ]
  },
  {
   "cell_type": "code",
   "execution_count": null,
   "id": "f9f824b0",
   "metadata": {},
   "outputs": [],
   "source": [
    "allWordsDf['Sentiment'] = pd.DataFrame(allWordsDf['word'].apply(sentiment_scores))"
   ]
  },
  {
   "cell_type": "code",
   "execution_count": null,
   "id": "7e000758",
   "metadata": {},
   "outputs": [],
   "source": [
    "allWordsDf.head()"
   ]
  },
  {
   "cell_type": "code",
   "execution_count": null,
   "id": "defddeaa",
   "metadata": {},
   "outputs": [],
   "source": [
    "pd.DataFrame(allWordsDf).to_csv('PLACE UR CSV FILE PATH', encoding='utf8')"
   ]
  },
  {
   "cell_type": "code",
   "execution_count": null,
   "id": "dcf27594",
   "metadata": {},
   "outputs": [],
   "source": []
  }
 ],
 "metadata": {
  "kernelspec": {
   "display_name": "Python 3 (ipykernel)",
   "language": "python",
   "name": "python3"
  },
  "language_info": {
   "codemirror_mode": {
    "name": "ipython",
    "version": 3
   },
   "file_extension": ".py",
   "mimetype": "text/x-python",
   "name": "python",
   "nbconvert_exporter": "python",
   "pygments_lexer": "ipython3",
   "version": "3.8.12"
  }
 },
 "nbformat": 4,
 "nbformat_minor": 5
}
