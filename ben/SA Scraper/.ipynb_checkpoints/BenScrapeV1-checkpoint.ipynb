{
 "cells": [
  {
   "cell_type": "markdown",
   "id": "52e76d5b",
   "metadata": {},
   "source": [
    "# Test Selenium Chrome Driver\n",
    "\n",
    "Ref: https://medium.com/@srujana.rao2/scraping-instagram-with-python-using-selenium-and-beautiful-soup-8b72c186a058"
   ]
  },
  {
   "cell_type": "code",
   "execution_count": 1,
   "id": "c59a0134",
   "metadata": {},
   "outputs": [],
   "source": [
    "# Import dependencies\n",
    "from selenium import webdriver\n",
    "from selenium.webdriver.chrome.options import Options\n",
    "from bs4 import BeautifulSoup as bs\n",
    "import time\n",
    "import re\n",
    "from urllib.request import urlopen\n",
    "import json\n",
    "from pandas.io.json import json_normalize\n",
    "import pandas as pd, numpy as np"
   ]
  },
  {
   "cell_type": "code",
   "execution_count": 15,
   "id": "c2abb425",
   "metadata": {},
   "outputs": [],
   "source": [
    "from selenium.webdriver.chrome.service import Service\n",
    "from webdriver_manager.chrome import ChromeDriverManager\n",
    "from selenium.webdriver.common.by import By\n",
    "\n",
    "\n",
    "# driver.get(\"https://www.google.com\")"
   ]
  },
  {
   "cell_type": "code",
   "execution_count": 100,
   "id": "c85308df",
   "metadata": {},
   "outputs": [
    {
     "name": "stderr",
     "output_type": "stream",
     "text": [
      "\n",
      "\n",
      "====== WebDriver manager ======\n",
      "Current google-chrome version is 98.0.4758\n",
      "Get LATEST chromedriver version for 98.0.4758 google-chrome\n",
      "Driver [/Users/benjaminneo/.wdm/drivers/chromedriver/mac64/98.0.4758.102/chromedriver] found in cache\n"
     ]
    }
   ],
   "source": [
    "# Open the web browser\n",
    "\n",
    "driver = webdriver.Chrome(service=Service(ChromeDriverManager().install()))\n",
    "\n",
    "# Go to link\n",
    "driver.get('https://shopee.co.id/HUAWEI-Band-6-Smart-Band-Pemantauan-SpO2-24-Jam-96-mode-olahraga-2-Minggu-Battery-Life-i.39372120.8435235827?sp_atk=5bd5cb33-f87e-4f85-8ba8-973d3dff09d4')\n",
    "Pagelength = driver.execute_script(\"window.scrollTo(0, document.body.scrollHeight);\")\n",
    "\n",
    "time.sleep(5)\n"
   ]
  },
  {
   "cell_type": "markdown",
   "id": "96c765c4",
   "metadata": {},
   "source": [
    "# Start Scraping"
   ]
  },
  {
   "cell_type": "markdown",
   "id": "9f88244c",
   "metadata": {},
   "source": [
    "## Scrape 1st Page"
   ]
  },
  {
   "cell_type": "code",
   "execution_count": 101,
   "id": "8388e9a1",
   "metadata": {},
   "outputs": [
    {
     "data": {
      "text/html": [
       "<div>\n",
       "<style scoped>\n",
       "    .dataframe tbody tr th:only-of-type {\n",
       "        vertical-align: middle;\n",
       "    }\n",
       "\n",
       "    .dataframe tbody tr th {\n",
       "        vertical-align: top;\n",
       "    }\n",
       "\n",
       "    .dataframe thead th {\n",
       "        text-align: right;\n",
       "    }\n",
       "</style>\n",
       "<table border=\"1\" class=\"dataframe\">\n",
       "  <thead>\n",
       "    <tr style=\"text-align: right;\">\n",
       "      <th></th>\n",
       "      <th>Author</th>\n",
       "      <th>Date</th>\n",
       "      <th>Variation</th>\n",
       "      <th>Review</th>\n",
       "    </tr>\n",
       "  </thead>\n",
       "  <tbody>\n",
       "    <tr>\n",
       "      <th>0</th>\n",
       "      <td>l*****7</td>\n",
       "      <td>2022-02-27 18:00</td>\n",
       "      <td>Amber Sunrise</td>\n",
       "      <td>Cepet bgttt nyampe nya. Alhamdulillah bisa pai...</td>\n",
       "    </tr>\n",
       "    <tr>\n",
       "      <th>1</th>\n",
       "      <td>ameerahflorist</td>\n",
       "      <td>2022-02-27 19:04</td>\n",
       "      <td>Graphite Black</td>\n",
       "      <td>Alhamdulillah barang nya bagus udh dikasih ke ...</td>\n",
       "    </tr>\n",
       "    <tr>\n",
       "      <th>2</th>\n",
       "      <td>d*****4</td>\n",
       "      <td>2022-02-26 11:16</td>\n",
       "      <td>Forest Green</td>\n",
       "      <td>Mantap semoga awet band watch nya, untuk semen...</td>\n",
       "    </tr>\n",
       "    <tr>\n",
       "      <th>3</th>\n",
       "      <td>mungnavevell</td>\n",
       "      <td>2022-02-28 19:37</td>\n",
       "      <td>Forest Green</td>\n",
       "      <td>Pengiriman cepat...barang oke banget.suka...se...</td>\n",
       "    </tr>\n",
       "    <tr>\n",
       "      <th>4</th>\n",
       "      <td>hendri_cr7sahabatnoah</td>\n",
       "      <td>2022-02-14 10:56</td>\n",
       "      <td>Graphite Black</td>\n",
       "      <td>paket sudah sampai dengan aman dan tidak ada k...</td>\n",
       "    </tr>\n",
       "    <tr>\n",
       "      <th>5</th>\n",
       "      <td>apriliaa97</td>\n",
       "      <td>2022-02-28 13:46</td>\n",
       "      <td>Graphite Black</td>\n",
       "      <td>Produknya berfungsi dengan baik, problemnya cu...</td>\n",
       "    </tr>\n",
       "  </tbody>\n",
       "</table>\n",
       "</div>"
      ],
      "text/plain": [
       "                  Author              Date       Variation  \\\n",
       "0                l*****7  2022-02-27 18:00   Amber Sunrise   \n",
       "1         ameerahflorist  2022-02-27 19:04  Graphite Black   \n",
       "2                d*****4  2022-02-26 11:16    Forest Green   \n",
       "3           mungnavevell  2022-02-28 19:37    Forest Green   \n",
       "4  hendri_cr7sahabatnoah  2022-02-14 10:56  Graphite Black   \n",
       "5             apriliaa97  2022-02-28 13:46  Graphite Black   \n",
       "\n",
       "                                              Review  \n",
       "0  Cepet bgttt nyampe nya. Alhamdulillah bisa pai...  \n",
       "1  Alhamdulillah barang nya bagus udh dikasih ke ...  \n",
       "2  Mantap semoga awet band watch nya, untuk semen...  \n",
       "3  Pengiriman cepat...barang oke banget.suka...se...  \n",
       "4  paket sudah sampai dengan aman dan tidak ada k...  \n",
       "5  Produknya berfungsi dengan baik, problemnya cu...  "
      ]
     },
     "execution_count": 101,
     "metadata": {},
     "output_type": "execute_result"
    }
   ],
   "source": [
    "source = driver.page_source\n",
    "scraper = bs(source, 'html.parser')\n",
    "\n",
    "body = scraper.find('body')\n",
    "script = body.find_all(\"div\",class_=\"shopee-product-rating\")\n",
    "\n",
    "result = pd.DataFrame(columns = ['Author', 'Date', 'Variation', 'Review'])\n",
    "\n",
    "Pagelength = driver.execute_script(\"window.scrollTo(0, document.body.scrollHeight/3);\")\n",
    "\n",
    "for div in script:\n",
    "    \n",
    "    # Main body of Review\n",
    "    main = div.find(\"div\", class_=\"shopee-product-rating__main\")\n",
    "    author = main.find(\"div\", class_=\"shopee-product-rating__author-name\")\n",
    "    \n",
    "    # author == None, tag used is 'a'  not 'div'\n",
    "    if main.find(\"div\", class_=\"shopee-product-rating__author-name\") == None:\n",
    "        author = main.find(\"a\", class_=\"shopee-product-rating__author-name\")\n",
    "    author = author.get_text()\n",
    "    # Should we scrape rating? | use for loop to count?\n",
    "    \n",
    "    # Date & Variation | might need to translate variasi to variation? | I removed it for now\n",
    "    time_variation = main.find(\"div\", class_=\"shopee-product-rating__time\").get_text()\n",
    "    time_variation = time_variation.split(\" | \")\n",
    "    date = time_variation[0]\n",
    "    variation = time_variation[1].lstrip('Variasi: ')\n",
    "    \n",
    "    # Review\n",
    "    review = main.find(\"div\", class_=\"_3NrdYc\").get_text()\n",
    "    \n",
    "    result = result.append({'Author' : author, 'Date' : date, 'Variation' : variation, 'Review' : review}, ignore_index = True)\n",
    "\n",
    "        \n",
    "result\n",
    "\n",
    "\n",
    "## consider append to list then list to df outside loop for better performance\n"
   ]
  },
  {
   "cell_type": "markdown",
   "id": "5f2f1ca4",
   "metadata": {},
   "source": [
    "## Scrape subsequent pages"
   ]
  },
  {
   "cell_type": "code",
   "execution_count": 102,
   "id": "710b7fae",
   "metadata": {},
   "outputs": [],
   "source": [
    "#Select Next Button [ WORKING ]\n",
    "\n",
    "time.sleep(5)\n",
    "nextButton = driver.find_element(by=By.CLASS_NAME, value=\"shopee-icon-button--right\")\n",
    "nextButton.click()\n",
    "time.sleep(2)"
   ]
  },
  {
   "cell_type": "code",
   "execution_count": 111,
   "id": "e2d2caa5",
   "metadata": {},
   "outputs": [],
   "source": [
    "author = \"\"\n",
    "date = \"\"\n",
    "variation = \"\"\n",
    "review = \"\"\n",
    "result = pd.DataFrame(columns = ['Author', 'Date', 'Variation', 'Review'])"
   ]
  },
  {
   "cell_type": "code",
   "execution_count": 112,
   "id": "5f4daba4",
   "metadata": {},
   "outputs": [
    {
     "data": {
      "text/html": [
       "<div>\n",
       "<style scoped>\n",
       "    .dataframe tbody tr th:only-of-type {\n",
       "        vertical-align: middle;\n",
       "    }\n",
       "\n",
       "    .dataframe tbody tr th {\n",
       "        vertical-align: top;\n",
       "    }\n",
       "\n",
       "    .dataframe thead th {\n",
       "        text-align: right;\n",
       "    }\n",
       "</style>\n",
       "<table border=\"1\" class=\"dataframe\">\n",
       "  <thead>\n",
       "    <tr style=\"text-align: right;\">\n",
       "      <th></th>\n",
       "      <th>Author</th>\n",
       "      <th>Date</th>\n",
       "      <th>Variation</th>\n",
       "      <th>Review</th>\n",
       "    </tr>\n",
       "  </thead>\n",
       "  <tbody>\n",
       "    <tr>\n",
       "      <th>0</th>\n",
       "      <td>l*****7</td>\n",
       "      <td>2022-02-27 18:00</td>\n",
       "      <td>Amber Sunrise</td>\n",
       "      <td>Cepet bgttt nyampe nya. Alhamdulillah bisa pai...</td>\n",
       "    </tr>\n",
       "    <tr>\n",
       "      <th>1</th>\n",
       "      <td>ameerahflorist</td>\n",
       "      <td>2022-02-27 19:04</td>\n",
       "      <td>Graphite Black</td>\n",
       "      <td>Alhamdulillah barang nya bagus udh dikasih ke ...</td>\n",
       "    </tr>\n",
       "    <tr>\n",
       "      <th>2</th>\n",
       "      <td>d*****4</td>\n",
       "      <td>2022-02-26 11:16</td>\n",
       "      <td>Forest Green</td>\n",
       "      <td>Mantap semoga awet band watch nya, untuk semen...</td>\n",
       "    </tr>\n",
       "    <tr>\n",
       "      <th>3</th>\n",
       "      <td>mungnavevell</td>\n",
       "      <td>2022-02-28 19:37</td>\n",
       "      <td>Forest Green</td>\n",
       "      <td>Pengiriman cepat...barang oke banget.suka...se...</td>\n",
       "    </tr>\n",
       "    <tr>\n",
       "      <th>4</th>\n",
       "      <td>hendri_cr7sahabatnoah</td>\n",
       "      <td>2022-02-14 10:56</td>\n",
       "      <td>Graphite Black</td>\n",
       "      <td>paket sudah sampai dengan aman dan tidak ada k...</td>\n",
       "    </tr>\n",
       "    <tr>\n",
       "      <th>5</th>\n",
       "      <td>apriliaa97</td>\n",
       "      <td>2022-02-28 13:46</td>\n",
       "      <td>Graphite Black</td>\n",
       "      <td>Produknya berfungsi dengan baik, problemnya cu...</td>\n",
       "    </tr>\n",
       "  </tbody>\n",
       "</table>\n",
       "</div>"
      ],
      "text/plain": [
       "                  Author              Date       Variation  \\\n",
       "0                l*****7  2022-02-27 18:00   Amber Sunrise   \n",
       "1         ameerahflorist  2022-02-27 19:04  Graphite Black   \n",
       "2                d*****4  2022-02-26 11:16    Forest Green   \n",
       "3           mungnavevell  2022-02-28 19:37    Forest Green   \n",
       "4  hendri_cr7sahabatnoah  2022-02-14 10:56  Graphite Black   \n",
       "5             apriliaa97  2022-02-28 13:46  Graphite Black   \n",
       "\n",
       "                                              Review  \n",
       "0  Cepet bgttt nyampe nya. Alhamdulillah bisa pai...  \n",
       "1  Alhamdulillah barang nya bagus udh dikasih ke ...  \n",
       "2  Mantap semoga awet band watch nya, untuk semen...  \n",
       "3  Pengiriman cepat...barang oke banget.suka...se...  \n",
       "4  paket sudah sampai dengan aman dan tidak ada k...  \n",
       "5  Produknya berfungsi dengan baik, problemnya cu...  "
      ]
     },
     "execution_count": 112,
     "metadata": {},
     "output_type": "execute_result"
    }
   ],
   "source": [
    "body = scraper.find('body')\n",
    "script = body.find_all(\"div\",class_=\"shopee-product-rating\")\n",
    "\n",
    "for div in script:\n",
    "    \n",
    "    # Main body of Review\n",
    "    main = div.find(\"div\", class_=\"shopee-product-rating__main\")\n",
    "    author = main.find(\"div\", class_=\"shopee-product-rating__author-name\")\n",
    "    \n",
    "    # author == None, tag used is 'a'  not 'div'\n",
    "    if main.find(\"div\", class_=\"shopee-product-rating__author-name\") == None:\n",
    "        author = main.find(\"a\", class_=\"shopee-product-rating__author-name\")\n",
    "    author = author.get_text()\n",
    "    # Should we scrape rating? | use for loop to count?\n",
    "    \n",
    "    # Date & Variation | might need to translate variasi to variation? | I removed it for now\n",
    "    time_variation = main.find(\"div\", class_=\"shopee-product-rating__time\").get_text()\n",
    "    time_variation = time_variation.split(\" | \")\n",
    "    date = time_variation[0]\n",
    "    variation = time_variation[1].lstrip('Variasi: ')\n",
    "    \n",
    "    # Review\n",
    "    review = main.find(\"div\", class_=\"_3NrdYc\").get_text()\n",
    "    \n",
    "    result = result.append({'Author' : author, 'Date' : date, 'Variation' : variation, 'Review' : review}, ignore_index = True)\n",
    "\n",
    "        \n",
    "result"
   ]
  },
  {
   "cell_type": "code",
   "execution_count": 99,
   "id": "d4f7f84a",
   "metadata": {},
   "outputs": [],
   "source": [
    "driver.close()"
   ]
  },
  {
   "cell_type": "code",
   "execution_count": null,
   "id": "4aed42c1",
   "metadata": {},
   "outputs": [],
   "source": []
  },
  {
   "cell_type": "code",
   "execution_count": null,
   "id": "fca83aec",
   "metadata": {},
   "outputs": [],
   "source": []
  },
  {
   "cell_type": "code",
   "execution_count": null,
   "id": "76a771e1",
   "metadata": {},
   "outputs": [],
   "source": []
  },
  {
   "cell_type": "code",
   "execution_count": null,
   "id": "2ee60906",
   "metadata": {},
   "outputs": [],
   "source": []
  }
 ],
 "metadata": {
  "kernelspec": {
   "display_name": "Python 3",
   "language": "python",
   "name": "python3"
  },
  "language_info": {
   "codemirror_mode": {
    "name": "ipython",
    "version": 3
   },
   "file_extension": ".py",
   "mimetype": "text/x-python",
   "name": "python",
   "nbconvert_exporter": "python",
   "pygments_lexer": "ipython3",
   "version": "3.8.8"
  }
 },
 "nbformat": 4,
 "nbformat_minor": 5
}
