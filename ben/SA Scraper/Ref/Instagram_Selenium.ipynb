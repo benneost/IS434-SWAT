{
 "cells": [
  {
   "cell_type": "markdown",
   "metadata": {},
   "source": [
    "Web Crawling & Scraping (Instagram)\n",
    "\n",
    "This script scrapes Instagram posts using Selenium & BeautifulSoup packages.\n",
    "\n",
    "Ref (2019): https://medium.com/@srujana.rao2/scraping-instagram-with-python-using-selenium-and-beautiful-soup-8b72c186a058\n",
    "\n",
    "Ref (2021): https://medium.com/analytics-vidhya/web-scraping-instagram-with-selenium-python-b8e77af32ad4\n",
    "\n",
    "Ref (2021): http://www.easy2digital.com/automation/python-tutorial-for-digital-marketer-12-using-hashtags-to-scrape-top-instagram-posts-and-instagram-users/"
   ]
  },
  {
   "cell_type": "code",
   "execution_count": 3,
   "metadata": {},
   "outputs": [],
   "source": [
    "from selenium import webdriver\n",
    "from selenium.webdriver.chrome.options import Options\n",
    "from bs4 import BeautifulSoup as bs\n",
    "import time\n",
    "import re\n",
    "from urllib.request import urlopen\n",
    "import json\n",
    "from pandas.io.json import json_normalize\n",
    "import pandas as pd, numpy as np\n",
    "import re\n",
    "\n",
    "from selenium.webdriver.chrome.service import Service\n",
    "from webdriver_manager.chrome import ChromeDriverManager"
   ]
  },
  {
   "cell_type": "markdown",
   "metadata": {},
   "source": [
    "First, we will specify Instagram profile's username\n",
    "And scrape the profile's posts.\n",
    "\n",
    "On your computer, you need to:\n",
    "\n",
    "1. Install Python selenium package\n",
    "> conda install -c conda-forge selenium\n",
    "OR\n",
    "> pip install selenium\n",
    "\n",
    "Ref: https://medium.com/@praneeth.jm/running-chromedriver-and-selenium-in-python-on-an-aws-ec2-instance-2fb4ad633bb5\n",
    "\n",
    "2. Install chromedriver\n",
    "\n",
    "3. Install Google Chrome"
   ]
  },
  {
   "cell_type": "code",
   "execution_count": 4,
   "metadata": {},
   "outputs": [
    {
     "name": "stderr",
     "output_type": "stream",
     "text": [
      "\n",
      "\n",
      "====== WebDriver manager ======\n",
      "Current google-chrome version is 98.0.4758\n",
      "Get LATEST chromedriver version for 98.0.4758 google-chrome\n",
      "Driver [/Users/benjaminneo/.wdm/drivers/chromedriver/mac64/98.0.4758.102/chromedriver] found in cache\n"
     ]
    }
   ],
   "source": [
    "# Open the web browser\n",
    "# Selenium uses Chrome Drive to open the profile given a username (public user).\n",
    "# For example -\n",
    "\n",
    "username='davidbeckham'\n",
    "browser = webdriver.Chrome(service=Service(ChromeDriverManager().install()))\n",
    "browser.get('https://www.instagram.com/'+username+'/?hl=en')\n",
    "\n",
    "#==== Uncomment the below segment if you wish to programmatically log in ====\n",
    "#==== Otherwise, when a new browser window pops up - click on Login and manually log in from browser ====\n",
    "#==== NOTE that you must key in your OWN login username/password ====\n",
    "#==== A safer method would be to store it in a different file and read from it ====\n",
    "# time.sleep(5)\n",
    "# username=browser.find_element_by_css_selector(\"input[name='username']\")\n",
    "# password=browser.find_element_by_css_selector(\"input[name='password']\")\n",
    "# username.clear()\n",
    "# password.clear()\n",
    "# username.send_keys(\"YOUR_OWN_INSTAGRAM_USERNAME\")\n",
    "# password.send_keys(\"YOUR_OWN_INSTAGRAM_PASSWORD\")\n",
    "# login = browser.find_element_by_css_selector(\"button[type='submit']\").click()\n",
    "# time.sleep(5)\n",
    "# # save your login info?\n",
    "# time.sleep(5)\n",
    "# notnow = browser.find_element_by_xpath(\"//button[contains(text(), 'Not Now')]\").click()"
   ]
  },
  {
   "cell_type": "code",
   "execution_count": 5,
   "metadata": {},
   "outputs": [],
   "source": [
    "username='davidbeckham'\n",
    "browser.get('https://www.instagram.com/'+ username+'/?hl=en')\n",
    "Pagelength = browser.execute_script(\"window.scrollTo(0, document.body.scrollHeight);\")"
   ]
  },
  {
   "cell_type": "markdown",
   "metadata": {},
   "source": [
    "# In the new Chrome browser window (used by Selenium)\n",
    "# Log into Instagram (using your own account)\n",
    "# Otherwise, crawler will not be able to retrieve posts from multiple pages"
   ]
  },
  {
   "cell_type": "code",
   "execution_count": null,
   "metadata": {},
   "outputs": [],
   "source": [
    "# If you want to open a hashtag page\n",
    "# hashtag='food'\n",
    "# browser = webdriver.Chrome()\n",
    "# browser.get('https://www.instagram.com/explore/tags/'+hashtag)\n",
    "# Pagelength = browser.execute_script(\"window.scrollTo(0, document.body.scrollHeight);\")"
   ]
  },
  {
   "cell_type": "code",
   "execution_count": 6,
   "metadata": {},
   "outputs": [
    {
     "name": "stdout",
     "output_type": "stream",
     "text": [
      "Number of Instagram images:  24\n"
     ]
    }
   ],
   "source": [
    "'''\n",
    "Parse HTML source page\n",
    "\n",
    "Open the source page and use beautiful soup to parse it.\n",
    "\n",
    "Go through the body of HTML script and extract link for each image in that page\n",
    "and pass it to an empty list 'links[]'.\n",
    "'''\n",
    "\n",
    "links = []\n",
    "source = browser.page_source\n",
    "data = bs(source, 'html.parser')\n",
    "\n",
    "body = data.find('body')\n",
    "script = body.find_all(\"div\",class_=\"v1Nh3\")\n",
    "\n",
    "\n",
    "for div in script:\n",
    "     link = div.find('a')\n",
    "     if re.match(\"/p\", link.get('href')):\n",
    "        links.append('https://www.instagram.com' + link.get('href'))\n",
    "        \n",
    "print(\"Number of Instagram images: \", len(links))"
   ]
  },
  {
   "cell_type": "code",
   "execution_count": 7,
   "metadata": {},
   "outputs": [
    {
     "data": {
      "text/plain": [
       "['https://www.instagram.com/p/CafPrA7IMHn/',\n",
       " 'https://www.instagram.com/p/Cac1eylo8bq/',\n",
       " 'https://www.instagram.com/p/CaXNUPvogh9/',\n",
       " 'https://www.instagram.com/p/CaSKvN9oe4I/',\n",
       " 'https://www.instagram.com/p/CaQNJd4ocKY/',\n",
       " 'https://www.instagram.com/p/CaMXMThoL-W/',\n",
       " 'https://www.instagram.com/p/CaKWPt8IywA/',\n",
       " 'https://www.instagram.com/p/CaKE_DhIDv1/',\n",
       " 'https://www.instagram.com/p/CaEmrz8IrVb/',\n",
       " 'https://www.instagram.com/p/CZ8txMDowBe/',\n",
       " 'https://www.instagram.com/p/CZ7Bpk1oXDk/',\n",
       " 'https://www.instagram.com/p/CZwk2DYIOhV/',\n",
       " 'https://www.instagram.com/p/CZoQk8TIOMV/',\n",
       " 'https://www.instagram.com/p/CZfGIhZIp-V/',\n",
       " 'https://www.instagram.com/p/CZbitxZI_De/',\n",
       " 'https://www.instagram.com/p/CZSEnGloBXn/',\n",
       " 'https://www.instagram.com/p/CZM19T9oW4w/',\n",
       " 'https://www.instagram.com/p/CZKQZZqId2S/',\n",
       " 'https://www.instagram.com/p/CY3gFDXoFAx/',\n",
       " 'https://www.instagram.com/p/CYtL1JEIAfB/',\n",
       " 'https://www.instagram.com/p/CYjcRAwI9On/',\n",
       " 'https://www.instagram.com/p/CYgUO-jIYGQ/',\n",
       " 'https://www.instagram.com/p/CYbrTlBoRf7/',\n",
       " 'https://www.instagram.com/p/CYUf559loBA/']"
      ]
     },
     "execution_count": 7,
     "metadata": {},
     "output_type": "execute_result"
    }
   ],
   "source": [
    "links"
   ]
  },
  {
   "cell_type": "code",
   "execution_count": 8,
   "metadata": {},
   "outputs": [
    {
     "name": "stdout",
     "output_type": "stream",
     "text": [
      "Number of Instagram images:  75\n"
     ]
    }
   ],
   "source": [
    "'''\n",
    "Remember by default selenium opens only first page.\n",
    "\n",
    "If you want to scroll through further pages and get more images,\n",
    "divide the scroll Height by a number and run the parse code multiple times.\n",
    "\n",
    "This adds new links from each page to the list. For example -\n",
    "'''\n",
    "\n",
    "\n",
    "Pagelength = browser.execute_script(\"window.scrollTo(0, document.body.scrollHeight/1.5);\")\n",
    "source = browser.page_source\n",
    "data = bs(source, 'html.parser')\n",
    "body = data.find('body')\n",
    "script = body.find('span')\n",
    "for link in script.findAll('a'):\n",
    "     if re.match(\"/p\", link.get('href')):\n",
    "         links.append('https://www.instagram.com' + link.get('href'))\n",
    "\n",
    "\n",
    "# === IMPORTANT ===\n",
    "# sleep time is required.\n",
    "# If you don't use this, Instagram may interrupt the script and doesn't scroll through pages.\n",
    "\n",
    "time.sleep(5)\n",
    "\n",
    "\n",
    "\n",
    "Pagelength = browser.execute_script(\"window.scrollTo(document.body.scrollHeight/1.5, document.body.scrollHeight/3.0);\")\n",
    "source = browser.page_source\n",
    "data = bs(source, 'html.parser')\n",
    "\n",
    "body = data.find('body')\n",
    "script = body.find_all(\"div\",class_=\"v1Nh3\")\n",
    "\n",
    "for div in script:\n",
    "     link = div.find('a')\n",
    "     if re.match(\"/p\", link.get('href')):\n",
    "        links.append('https://www.instagram.com' + link.get('href'))\n",
    "        \n",
    "print(\"Number of Instagram images: \", len(links))"
   ]
  },
  {
   "cell_type": "code",
   "execution_count": 9,
   "metadata": {},
   "outputs": [
    {
     "data": {
      "text/plain": [
       "['https://www.instagram.com/p/CafPrA7IMHn/',\n",
       " 'https://www.instagram.com/p/Cac1eylo8bq/',\n",
       " 'https://www.instagram.com/p/CaXNUPvogh9/',\n",
       " 'https://www.instagram.com/p/CaSKvN9oe4I/',\n",
       " 'https://www.instagram.com/p/CaQNJd4ocKY/',\n",
       " 'https://www.instagram.com/p/CaMXMThoL-W/',\n",
       " 'https://www.instagram.com/p/CaKWPt8IywA/',\n",
       " 'https://www.instagram.com/p/CaKE_DhIDv1/',\n",
       " 'https://www.instagram.com/p/CaEmrz8IrVb/',\n",
       " 'https://www.instagram.com/p/CZ8txMDowBe/',\n",
       " 'https://www.instagram.com/p/CZ7Bpk1oXDk/',\n",
       " 'https://www.instagram.com/p/CZwk2DYIOhV/',\n",
       " 'https://www.instagram.com/p/CZoQk8TIOMV/',\n",
       " 'https://www.instagram.com/p/CZfGIhZIp-V/',\n",
       " 'https://www.instagram.com/p/CZbitxZI_De/',\n",
       " 'https://www.instagram.com/p/CZSEnGloBXn/',\n",
       " 'https://www.instagram.com/p/CZM19T9oW4w/',\n",
       " 'https://www.instagram.com/p/CZKQZZqId2S/',\n",
       " 'https://www.instagram.com/p/CY3gFDXoFAx/',\n",
       " 'https://www.instagram.com/p/CYtL1JEIAfB/',\n",
       " 'https://www.instagram.com/p/CYjcRAwI9On/',\n",
       " 'https://www.instagram.com/p/CYgUO-jIYGQ/',\n",
       " 'https://www.instagram.com/p/CYbrTlBoRf7/',\n",
       " 'https://www.instagram.com/p/CYUf559loBA/',\n",
       " 'https://www.instagram.com/p/CYgUO-jIYGQ/',\n",
       " 'https://www.instagram.com/p/CYbrTlBoRf7/',\n",
       " 'https://www.instagram.com/p/CYUf559loBA/',\n",
       " 'https://www.instagram.com/p/CYMKV36LYlV/',\n",
       " 'https://www.instagram.com/p/CYJnx8vLzUP/',\n",
       " 'https://www.instagram.com/p/CX7v7Wdspqx/',\n",
       " 'https://www.instagram.com/p/CX4mkz0IAMq/',\n",
       " 'https://www.instagram.com/p/CX3JF42IyxB/',\n",
       " 'https://www.instagram.com/p/CXwLn93I8t_/',\n",
       " 'https://www.instagram.com/p/CXq_StMobns/',\n",
       " 'https://www.instagram.com/p/CXqzfOPIhGT/',\n",
       " 'https://www.instagram.com/p/CXgfAA7IpEw/',\n",
       " 'https://www.instagram.com/p/CXf845AIyL5/',\n",
       " 'https://www.instagram.com/p/CXeP9N7oAWu/',\n",
       " 'https://www.instagram.com/p/CXcBSi8oBgW/',\n",
       " 'https://www.instagram.com/p/CXbDWp0Iyvx/',\n",
       " 'https://www.instagram.com/p/CXYzTLlIQUY/',\n",
       " 'https://www.instagram.com/p/CXQia-goAPH/',\n",
       " 'https://www.instagram.com/p/CXLvp0ioZMY/',\n",
       " 'https://www.instagram.com/p/CXBwChnoNKg/',\n",
       " 'https://www.instagram.com/p/CXBebsDoVz-/',\n",
       " 'https://www.instagram.com/p/CW5OgcvoAb5/',\n",
       " 'https://www.instagram.com/p/CWvKp8DIcjH/',\n",
       " 'https://www.instagram.com/p/CWlgeVrINKK/',\n",
       " 'https://www.instagram.com/p/CWjHUB5oqrf/',\n",
       " 'https://www.instagram.com/p/CWiZpqzoICE/',\n",
       " 'https://www.instagram.com/p/CWgwbEhI-QN/',\n",
       " 'https://www.instagram.com/p/CWVmVZ9ImG2/',\n",
       " 'https://www.instagram.com/p/CWQQINrofDX/',\n",
       " 'https://www.instagram.com/p/CWOVufuo2R4/',\n",
       " 'https://www.instagram.com/p/CWGDjFbo6lA/',\n",
       " 'https://www.instagram.com/p/CWDywUaot_E/',\n",
       " 'https://www.instagram.com/p/CWDJ0V_okN-/',\n",
       " 'https://www.instagram.com/p/CV_tBfIITup/',\n",
       " 'https://www.instagram.com/p/CV8iXdhINcq/',\n",
       " 'https://www.instagram.com/p/CV4UMahIKkE/',\n",
       " 'https://www.instagram.com/p/CV24qd2oEgO/',\n",
       " 'https://www.instagram.com/p/CV0wnUgoQXL/',\n",
       " 'https://www.instagram.com/p/CVs7CyqF25R/',\n",
       " 'https://www.instagram.com/p/CVk1m6hISu9/',\n",
       " 'https://www.instagram.com/p/CVgR8Z4Iac8/',\n",
       " 'https://www.instagram.com/p/CVVgaSnlrli/',\n",
       " 'https://www.instagram.com/p/CVS9ueLI2D8/',\n",
       " 'https://www.instagram.com/p/CU4lHk0owcm/',\n",
       " 'https://www.instagram.com/p/CU2gLdUI6bz/',\n",
       " 'https://www.instagram.com/p/CUuSWmOobQf/',\n",
       " 'https://www.instagram.com/p/CUrlxgfIKYf/',\n",
       " 'https://www.instagram.com/p/CUhnWqLIJbe/',\n",
       " 'https://www.instagram.com/p/CUfDD_hI3cU/',\n",
       " 'https://www.instagram.com/p/CUKzNJYISsw/',\n",
       " 'https://www.instagram.com/p/CT6xWgoI9du/']"
      ]
     },
     "execution_count": 9,
     "metadata": {},
     "output_type": "execute_result"
    }
   ],
   "source": [
    "links"
   ]
  },
  {
   "cell_type": "code",
   "execution_count": 10,
   "metadata": {},
   "outputs": [
    {
     "ename": "NameError",
     "evalue": "name 'result' is not defined",
     "output_type": "error",
     "traceback": [
      "\u001b[0;31m---------------------------------------------------------------------------\u001b[0m",
      "\u001b[0;31mNameError\u001b[0m                                 Traceback (most recent call last)",
      "\u001b[0;32m<ipython-input-10-98c1c232152f>\u001b[0m in \u001b[0;36m<module>\u001b[0;34m\u001b[0m\n\u001b[1;32m     10\u001b[0m \u001b[0;32mimport\u001b[0m \u001b[0mos\u001b[0m\u001b[0;34m\u001b[0m\u001b[0;34m\u001b[0m\u001b[0m\n\u001b[1;32m     11\u001b[0m \u001b[0;32mimport\u001b[0m \u001b[0mrequests\u001b[0m\u001b[0;34m\u001b[0m\u001b[0;34m\u001b[0m\u001b[0m\n\u001b[0;32m---> 12\u001b[0;31m \u001b[0mresult\u001b[0m\u001b[0;34m.\u001b[0m\u001b[0mindex\u001b[0m \u001b[0;34m=\u001b[0m \u001b[0mrange\u001b[0m\u001b[0;34m(\u001b[0m\u001b[0mlen\u001b[0m\u001b[0;34m(\u001b[0m\u001b[0mresult\u001b[0m\u001b[0;34m.\u001b[0m\u001b[0mindex\u001b[0m\u001b[0;34m)\u001b[0m\u001b[0;34m)\u001b[0m\u001b[0;34m\u001b[0m\u001b[0;34m\u001b[0m\u001b[0m\n\u001b[0m\u001b[1;32m     13\u001b[0m \u001b[0;34m\u001b[0m\u001b[0m\n\u001b[1;32m     14\u001b[0m \u001b[0mpath_prefix\u001b[0m\u001b[0;34m=\u001b[0m\u001b[0;34m\"\"\u001b[0m\u001b[0;34m\u001b[0m\u001b[0;34m\u001b[0m\u001b[0m\n",
      "\u001b[0;31mNameError\u001b[0m: name 'result' is not defined"
     ]
    }
   ],
   "source": [
    "'''\n",
    "Download images from pandas data frame\n",
    "\n",
    "Use requests library to download images from the ‘display_url’ in pandas ‘result’ data frame \n",
    "and store them with respective shortcode as file name.\n",
    "\n",
    "(Important Note: Remember that you should respect author’s rights when you \n",
    "download copyrighted content. Do not use images/videos from Instagram for commercial intent).\n",
    "'''\n",
    "import os\n",
    "import requests\n",
    "result.index = range(len(result.index))\n",
    "\n",
    "path_prefix=\"\"\n",
    "directory = \"Instagram_Photos_\" + username\n",
    "\n",
    "if not os.path.exists(directory):\n",
    "    os.makedirs(path_prefix + directory)\n",
    "\n",
    "for i in range(len(result)):\n",
    "    r = requests.get(result['display_url'][i])\n",
    "    with open(directory + \"/\" + result['shortcode'][i]+\".jpg\", 'wb') as f:\n",
    "                    f.write(r.content)"
   ]
  },
  {
   "cell_type": "markdown",
   "metadata": {},
   "source": [
    "Now go check out the folder Instagram_Photos_davidbeckham/\n",
    "\n",
    "You should see JPG files there."
   ]
  },
  {
   "cell_type": "code",
   "execution_count": null,
   "metadata": {},
   "outputs": [],
   "source": [
    "'''\n",
    "Can you go to each post (via its URL) and retrieve metadata such as:\n",
    "- Number of likes\n",
    "- Comments (text)\n",
    "'''"
   ]
  },
  {
   "cell_type": "code",
   "execution_count": 11,
   "metadata": {},
   "outputs": [
    {
     "name": "stdout",
     "output_type": "stream",
     "text": [
      "Post at: https://www.instagram.com/p/CafPrA7IMHn/\n",
      "Caption is: The situation in Ukraine is devastating and terrifying for its people. Like any parent it is heartbreaking to see the effect on the innocent children that are now living in a war zone. As conflict escalates so do the needs of children. Find out how you can help through @UNICEF at link in bio.\n"
     ]
    },
    {
     "name": "stderr",
     "output_type": "stream",
     "text": [
      "<ipython-input-11-3324098aa6bb>:16: DeprecationWarning: find_element_by_class_name is deprecated. Please use find_element(by=By.CLASS_NAME, value=name) instead\n",
      "  comments = browser.find_element_by_class_name(\"XQXOT\").find_elements_by_class_name(\"Mr508\")[:5]\n",
      "/Users/benjaminneo/opt/anaconda3/lib/python3.8/site-packages/selenium/webdriver/remote/webelement.py:464: UserWarning: find_elements_by_class_name is deprecated. Please use find_elements(by=By.CLASS_NAME, value=name) instead\n",
      "  warnings.warn(\"find_elements_by_class_name is deprecated. Please use find_elements(by=By.CLASS_NAME, value=name) instead\")\n"
     ]
    },
    {
     "name": "stdout",
     "output_type": "stream",
     "text": [
      "5 comments are:\n"
     ]
    },
    {
     "name": "stderr",
     "output_type": "stream",
     "text": [
      "/Users/benjaminneo/opt/anaconda3/lib/python3.8/site-packages/selenium/webdriver/remote/webelement.py:446: UserWarning: find_element_by_class_name is deprecated. Please use find_element(by=By.CLASS_NAME, value=name) instead\n",
      "  warnings.warn(\"find_element_by_class_name is deprecated. Please use find_element(by=By.CLASS_NAME, value=name) instead\")\n",
      "/Users/benjaminneo/opt/anaconda3/lib/python3.8/site-packages/selenium/webdriver/remote/webelement.py:341: UserWarning: find_element_by_tag_name is deprecated. Please use find_element(by=By.TAG_NAME, value=name) instead\n",
      "  warnings.warn(\"find_element_by_tag_name is deprecated. Please use find_element(by=By.TAG_NAME, value=name) instead\")\n"
     ]
    },
    {
     "name": "stdout",
     "output_type": "stream",
     "text": [
      "\t robbiekeane : 🙏\n",
      "\t kenpaves : 🙏🏼\n",
      "\t davideinhorn : 🙏 ❤️\n",
      "\t lagalaxy : 🙏\n",
      "\t unicef : Thank you for your support, @davidbeckham. Every child deserves safety and peace. 💙\n"
     ]
    },
    {
     "name": "stderr",
     "output_type": "stream",
     "text": [
      "<ipython-input-11-3324098aa6bb>:24: DeprecationWarning: find_element_by_xpath is deprecated. Please use find_element(by=By.XPATH, value=xpath) instead\n",
      "  likes = browser.find_element_by_xpath(\"//section[@class='EDfFK ygqzn']\").find_element_by_tag_name(\"span\").text\n"
     ]
    },
    {
     "ename": "ValueError",
     "evalue": "invalid literal for int() with base 10: ''",
     "output_type": "error",
     "traceback": [
      "\u001b[0;31m---------------------------------------------------------------------------\u001b[0m",
      "\u001b[0;31mValueError\u001b[0m                                Traceback (most recent call last)",
      "\u001b[0;32m<ipython-input-11-3324098aa6bb>\u001b[0m in \u001b[0;36m<module>\u001b[0;34m\u001b[0m\n\u001b[1;32m     23\u001b[0m \u001b[0;34m\u001b[0m\u001b[0m\n\u001b[1;32m     24\u001b[0m     \u001b[0mlikes\u001b[0m \u001b[0;34m=\u001b[0m \u001b[0mbrowser\u001b[0m\u001b[0;34m.\u001b[0m\u001b[0mfind_element_by_xpath\u001b[0m\u001b[0;34m(\u001b[0m\u001b[0;34m\"//section[@class='EDfFK ygqzn']\"\u001b[0m\u001b[0;34m)\u001b[0m\u001b[0;34m.\u001b[0m\u001b[0mfind_element_by_tag_name\u001b[0m\u001b[0;34m(\u001b[0m\u001b[0;34m\"span\"\u001b[0m\u001b[0;34m)\u001b[0m\u001b[0;34m.\u001b[0m\u001b[0mtext\u001b[0m\u001b[0;34m\u001b[0m\u001b[0;34m\u001b[0m\u001b[0m\n\u001b[0;32m---> 25\u001b[0;31m     \u001b[0mlikes\u001b[0m \u001b[0;34m=\u001b[0m \u001b[0mint\u001b[0m\u001b[0;34m(\u001b[0m\u001b[0mre\u001b[0m\u001b[0;34m.\u001b[0m\u001b[0msub\u001b[0m\u001b[0;34m(\u001b[0m\u001b[0;34m'[a-z,]+'\u001b[0m\u001b[0;34m,\u001b[0m  \u001b[0;34m''\u001b[0m\u001b[0;34m,\u001b[0m \u001b[0mlikes\u001b[0m\u001b[0;34m)\u001b[0m\u001b[0;34m)\u001b[0m\u001b[0;34m\u001b[0m\u001b[0;34m\u001b[0m\u001b[0m\n\u001b[0m\u001b[1;32m     26\u001b[0m     \u001b[0mprint\u001b[0m\u001b[0;34m(\u001b[0m\u001b[0;34m\"Number of likes is\"\u001b[0m\u001b[0;34m,\u001b[0m \u001b[0mlikes\u001b[0m\u001b[0;34m)\u001b[0m\u001b[0;34m\u001b[0m\u001b[0;34m\u001b[0m\u001b[0m\n\u001b[1;32m     27\u001b[0m     \u001b[0mtime\u001b[0m\u001b[0;34m.\u001b[0m\u001b[0msleep\u001b[0m\u001b[0;34m(\u001b[0m\u001b[0;36m5\u001b[0m\u001b[0;34m)\u001b[0m\u001b[0;34m\u001b[0m\u001b[0;34m\u001b[0m\u001b[0m\n",
      "\u001b[0;31mValueError\u001b[0m: invalid literal for int() with base 10: ''"
     ]
    }
   ],
   "source": [
    "# The below code segment is by TA Thao (IS434 - G2) - thank you!\n",
    "\n",
    "for i in range(5):\n",
    "    name = links[i][28:-1]\n",
    "    browser.get(links[i])\n",
    "    browser.implicitly_wait(30) \n",
    "    \n",
    "    print(\"Post at:\", links[i])\n",
    "\n",
    "    source = browser.page_source\n",
    "    data = bs(source, 'html.parser')\n",
    "    body = data.find('body')\n",
    "    caption = body.find(\"div\", class_=\"MOdxS\").text\n",
    "    print(\"Caption is:\", caption)\n",
    "    \n",
    "    comments = browser.find_element_by_class_name(\"XQXOT\").find_elements_by_class_name(\"Mr508\")[:5]\n",
    "    print(\"5 comments are:\")\n",
    "    for comment in comments:\n",
    "        script = comment.find_element_by_class_name(\"C4VMK\")\n",
    "        poster = script.find_element_by_tag_name(\"h3\").find_element_by_tag_name(\"span\").text\n",
    "        post = script.find_element_by_class_name(\"MOdxS \").text\n",
    "        print('\\t', poster, \":\", post)\n",
    "\n",
    "    likes = browser.find_element_by_xpath(\"//section[@class='EDfFK ygqzn']\").find_element_by_tag_name(\"span\").text\n",
    "    likes = int(re.sub('[a-z,]+',  '', likes))\n",
    "    print(\"Number of likes is\", likes)\n",
    "    time.sleep(5)"
   ]
  },
  {
   "cell_type": "code",
   "execution_count": 13,
   "metadata": {},
   "outputs": [],
   "source": [
    "browser.close()"
   ]
  },
  {
   "cell_type": "code",
   "execution_count": null,
   "metadata": {},
   "outputs": [],
   "source": []
  }
 ],
 "metadata": {
  "kernelspec": {
   "display_name": "Python 3",
   "language": "python",
   "name": "python3"
  },
  "language_info": {
   "codemirror_mode": {
    "name": "ipython",
    "version": 3
   },
   "file_extension": ".py",
   "mimetype": "text/x-python",
   "name": "python",
   "nbconvert_exporter": "python",
   "pygments_lexer": "ipython3",
   "version": "3.8.8"
  }
 },
 "nbformat": 4,
 "nbformat_minor": 2
}
